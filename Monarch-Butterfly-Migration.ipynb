{
 "cells": [
  {
   "cell_type": "markdown",
   "metadata": {},
   "source": [
    "<h1><center><font color=\"cc5500\"> MONARCH MIGRATION 1994 - 2001</font></center></h1>"
   ]
  },
  {
   "cell_type": "code",
   "execution_count": 10,
   "metadata": {},
   "outputs": [
    {
     "data": {
      "text/html": [
       "<style>\n",
       ".output {\n",
       "    flex-direction: row;\n",
       "}\n",
       "</style>"
      ],
      "text/plain": [
       "<IPython.core.display.HTML object>"
      ]
     },
     "execution_count": 10,
     "metadata": {},
     "output_type": "execute_result"
    }
   ],
   "source": [
    "import plotly as py\n",
    "import plotly.graph_objs as go\n",
    "import pandas as pd\n",
    "import sqlite3\n",
    "import os\n",
    "from IPython.display import IFrame, HTML\n",
    "CSS = \"\"\"\n",
    ".output {\n",
    "    flex-direction: row;\n",
    "}\n",
    "\"\"\"\n",
    "\n",
    "HTML('<style>{}</style>'.format(CSS))"
   ]
  },
  {
   "cell_type": "code",
   "execution_count": 11,
   "metadata": {},
   "outputs": [],
   "source": [
    "db = sqlite3.connect(\"Monarchs.db\")"
   ]
  },
  {
   "cell_type": "markdown",
   "metadata": {},
   "source": [
    "### Read pkl for each year"
   ]
  },
  {
   "cell_type": "code",
   "execution_count": 12,
   "metadata": {},
   "outputs": [],
   "source": [
    "monarchs2001 = pd.read_pickle(\"Data\\Monarchs2001.pkl\")\n",
    "monarchs2000 = pd.read_pickle(\"Data\\Monarchs2000.pkl\")\n",
    "monarchs1999 = pd.read_pickle(\"Data\\Monarchs1999.pkl\")\n",
    "monarchs1998 = pd.read_pickle(\"Data\\Monarchs1998.pkl\")\n",
    "monarchs1997 = pd.read_pickle(\"Data\\Monarchs1997.pkl\")\n",
    "monarchs1996 = pd.read_pickle(\"Data\\Monarchs1996.pkl\")\n",
    "monarchs1995 = pd.read_pickle(\"Data\\Monarchs1995.pkl\")\n",
    "monarchs1994 = pd.read_pickle(\"Data\\Monarchs1994.pkl\")"
   ]
  },
  {
   "cell_type": "markdown",
   "metadata": {},
   "source": [
    "### Convert pandas to SQL table"
   ]
  },
  {
   "cell_type": "code",
   "execution_count": 13,
   "metadata": {},
   "outputs": [
    {
     "name": "stderr",
     "output_type": "stream",
     "text": [
      "C:\\Users\\Arink\\Anaconda3\\lib\\site-packages\\pandas\\core\\generic.py:2663: UserWarning:\n",
      "\n",
      "The spaces in these column names will not be changed. In pandas versions < 0.14, spaces were converted to underscores.\n",
      "\n"
     ]
    },
    {
     "data": {
      "text/plain": [
       "'C:\\\\Users\\\\Arink\\\\Desktop\\\\github\\\\CodeLou\\\\Monarchs'"
      ]
     },
     "execution_count": 13,
     "metadata": {},
     "output_type": "execute_result"
    }
   ],
   "source": [
    "monarchs2001.to_sql(\"Monarchs2001\", db, if_exists=\"replace\")\n",
    "monarchs2000.to_sql(\"monarchs2000\", db, if_exists=\"replace\")\n",
    "monarchs1999.to_sql(\"monarchs1999\", db, if_exists=\"replace\")\n",
    "monarchs1998.to_sql(\"monarchs1998\", db, if_exists=\"replace\")\n",
    "monarchs1997.to_sql(\"monarchs1997\", db, if_exists=\"replace\")\n",
    "monarchs1996.to_sql(\"monarchs1996\", db, if_exists=\"replace\")\n",
    "monarchs1995.to_sql(\"monarchs1995\", db, if_exists=\"replace\")\n",
    "monarchs1994.to_sql(\"monarchs1994\", db, if_exists=\"replace\")\n",
    "\n",
    "os.getcwd()"
   ]
  },
  {
   "cell_type": "markdown",
   "metadata": {},
   "source": [
    "### View Schema \n",
    "##### All CSVs have same columns (Previously cleaned in DATA folder)"
   ]
  },
  {
   "cell_type": "code",
   "execution_count": 14,
   "metadata": {},
   "outputs": [
    {
     "data": {
      "text/html": [
       "<div>\n",
       "<style scoped>\n",
       "    .dataframe tbody tr th:only-of-type {\n",
       "        vertical-align: middle;\n",
       "    }\n",
       "\n",
       "    .dataframe tbody tr th {\n",
       "        vertical-align: top;\n",
       "    }\n",
       "\n",
       "    .dataframe thead th {\n",
       "        text-align: right;\n",
       "    }\n",
       "</style>\n",
       "<table border=\"1\" class=\"dataframe\">\n",
       "  <thead>\n",
       "    <tr style=\"text-align: right;\">\n",
       "      <th></th>\n",
       "      <th>cid</th>\n",
       "      <th>name</th>\n",
       "      <th>type</th>\n",
       "      <th>notnull</th>\n",
       "      <th>dflt_value</th>\n",
       "      <th>pk</th>\n",
       "    </tr>\n",
       "  </thead>\n",
       "  <tbody>\n",
       "    <tr>\n",
       "      <th>0</th>\n",
       "      <td>0</td>\n",
       "      <td>index</td>\n",
       "      <td>INTEGER</td>\n",
       "      <td>0</td>\n",
       "      <td>None</td>\n",
       "      <td>0</td>\n",
       "    </tr>\n",
       "    <tr>\n",
       "      <th>1</th>\n",
       "      <td>1</td>\n",
       "      <td>Tag No.</td>\n",
       "      <td>TEXT</td>\n",
       "      <td>0</td>\n",
       "      <td>None</td>\n",
       "      <td>0</td>\n",
       "    </tr>\n",
       "    <tr>\n",
       "      <th>2</th>\n",
       "      <td>2</td>\n",
       "      <td>Tag State</td>\n",
       "      <td>TEXT</td>\n",
       "      <td>0</td>\n",
       "      <td>None</td>\n",
       "      <td>0</td>\n",
       "    </tr>\n",
       "    <tr>\n",
       "      <th>3</th>\n",
       "      <td>3</td>\n",
       "      <td>Tag Date</td>\n",
       "      <td>TIMESTAMP</td>\n",
       "      <td>0</td>\n",
       "      <td>None</td>\n",
       "      <td>0</td>\n",
       "    </tr>\n",
       "    <tr>\n",
       "      <th>4</th>\n",
       "      <td>4</td>\n",
       "      <td>Report State</td>\n",
       "      <td>TEXT</td>\n",
       "      <td>0</td>\n",
       "      <td>None</td>\n",
       "      <td>0</td>\n",
       "    </tr>\n",
       "    <tr>\n",
       "      <th>5</th>\n",
       "      <td>5</td>\n",
       "      <td>Report Country</td>\n",
       "      <td>TEXT</td>\n",
       "      <td>0</td>\n",
       "      <td>None</td>\n",
       "      <td>0</td>\n",
       "    </tr>\n",
       "    <tr>\n",
       "      <th>6</th>\n",
       "      <td>6</td>\n",
       "      <td>Report Date</td>\n",
       "      <td>TIMESTAMP</td>\n",
       "      <td>0</td>\n",
       "      <td>None</td>\n",
       "      <td>0</td>\n",
       "    </tr>\n",
       "    <tr>\n",
       "      <th>7</th>\n",
       "      <td>7</td>\n",
       "      <td>Miles</td>\n",
       "      <td>REAL</td>\n",
       "      <td>0</td>\n",
       "      <td>None</td>\n",
       "      <td>0</td>\n",
       "    </tr>\n",
       "    <tr>\n",
       "      <th>8</th>\n",
       "      <td>8</td>\n",
       "      <td>Season</td>\n",
       "      <td>TEXT</td>\n",
       "      <td>0</td>\n",
       "      <td>None</td>\n",
       "      <td>0</td>\n",
       "    </tr>\n",
       "  </tbody>\n",
       "</table>\n",
       "</div>"
      ],
      "text/plain": [
       "   cid            name       type  notnull dflt_value  pk\n",
       "0    0           index    INTEGER        0       None   0\n",
       "1    1         Tag No.       TEXT        0       None   0\n",
       "2    2       Tag State       TEXT        0       None   0\n",
       "3    3        Tag Date  TIMESTAMP        0       None   0\n",
       "4    4    Report State       TEXT        0       None   0\n",
       "5    5  Report Country       TEXT        0       None   0\n",
       "6    6     Report Date  TIMESTAMP        0       None   0\n",
       "7    7           Miles       REAL        0       None   0\n",
       "8    8          Season       TEXT        0       None   0"
      ]
     },
     "execution_count": 14,
     "metadata": {},
     "output_type": "execute_result"
    }
   ],
   "source": [
    "data_type = pd.read_sql('SELECT * FROM PRAGMA_TABLE_INFO(\"monarchs2001\")', db)\n",
    "data_type"
   ]
  },
  {
   "cell_type": "markdown",
   "metadata": {},
   "source": [
    "## <img src=\"tag2.jpg\" style=\"width:400px;height:350px\"/>"
   ]
  },
  {
   "cell_type": "markdown",
   "metadata": {},
   "source": [
    "### Combine all years"
   ]
  },
  {
   "cell_type": "code",
   "execution_count": 15,
   "metadata": {},
   "outputs": [
    {
     "name": "stderr",
     "output_type": "stream",
     "text": [
      "C:\\Users\\Arink\\Anaconda3\\lib\\site-packages\\pandas\\core\\generic.py:2663: UserWarning:\n",
      "\n",
      "The spaces in these column names will not be changed. In pandas versions < 0.14, spaces were converted to underscores.\n",
      "\n"
     ]
    }
   ],
   "source": [
    "combine =  pd.concat([monarchs2001, monarchs2000, monarchs1999, monarchs1998, monarchs1997, monarchs1996, monarchs1995, monarchs1994], axis =0)\n",
    "#combine.columns = [\"tag_no\", \"tag_state\", \"tag_date\",\"report_state\", \"report_country\", \"report_date\", \"miles\"]\n",
    "#combine[\"Tag Date\"] = combine[\"Tag Date\"].astype(str)\n",
    "combine.to_sql(\"combine\", db, if_exists=\"replace\")"
   ]
  },
  {
   "cell_type": "markdown",
   "metadata": {},
   "source": [
    "#### How many tags were recovered from each state & How many tags did each state recover"
   ]
  },
  {
   "cell_type": "code",
   "execution_count": 16,
   "metadata": {},
   "outputs": [
    {
     "data": {
      "text/html": [
       "<div>\n",
       "<style scoped>\n",
       "    .dataframe tbody tr th:only-of-type {\n",
       "        vertical-align: middle;\n",
       "    }\n",
       "\n",
       "    .dataframe tbody tr th {\n",
       "        vertical-align: top;\n",
       "    }\n",
       "\n",
       "    .dataframe thead th {\n",
       "        text-align: right;\n",
       "    }\n",
       "</style>\n",
       "<table border=\"1\" class=\"dataframe\">\n",
       "  <thead>\n",
       "    <tr style=\"text-align: right;\">\n",
       "      <th></th>\n",
       "      <th>Tag State</th>\n",
       "      <th>Recovered Tags</th>\n",
       "    </tr>\n",
       "  </thead>\n",
       "  <tbody>\n",
       "    <tr>\n",
       "      <th>0</th>\n",
       "      <td>KS</td>\n",
       "      <td>776</td>\n",
       "    </tr>\n",
       "    <tr>\n",
       "      <th>1</th>\n",
       "      <td>IA</td>\n",
       "      <td>573</td>\n",
       "    </tr>\n",
       "    <tr>\n",
       "      <th>2</th>\n",
       "      <td>MN</td>\n",
       "      <td>479</td>\n",
       "    </tr>\n",
       "    <tr>\n",
       "      <th>3</th>\n",
       "      <td>TX</td>\n",
       "      <td>388</td>\n",
       "    </tr>\n",
       "    <tr>\n",
       "      <th>4</th>\n",
       "      <td>OK</td>\n",
       "      <td>185</td>\n",
       "    </tr>\n",
       "    <tr>\n",
       "      <th>5</th>\n",
       "      <td>Unknown Origin</td>\n",
       "      <td>170</td>\n",
       "    </tr>\n",
       "    <tr>\n",
       "      <th>6</th>\n",
       "      <td>SD</td>\n",
       "      <td>133</td>\n",
       "    </tr>\n",
       "    <tr>\n",
       "      <th>7</th>\n",
       "      <td>NE</td>\n",
       "      <td>119</td>\n",
       "    </tr>\n",
       "    <tr>\n",
       "      <th>8</th>\n",
       "      <td>IL</td>\n",
       "      <td>100</td>\n",
       "    </tr>\n",
       "    <tr>\n",
       "      <th>9</th>\n",
       "      <td>OH</td>\n",
       "      <td>91</td>\n",
       "    </tr>\n",
       "  </tbody>\n",
       "</table>\n",
       "</div>"
      ],
      "text/plain": [
       "        Tag State  Recovered Tags\n",
       "0              KS             776\n",
       "1              IA             573\n",
       "2              MN             479\n",
       "3              TX             388\n",
       "4              OK             185\n",
       "5  Unknown Origin             170\n",
       "6              SD             133\n",
       "7              NE             119\n",
       "8              IL             100\n",
       "9              OH              91"
      ]
     },
     "metadata": {},
     "output_type": "display_data"
    },
    {
     "data": {
      "text/html": [
       "<div>\n",
       "<style scoped>\n",
       "    .dataframe tbody tr th:only-of-type {\n",
       "        vertical-align: middle;\n",
       "    }\n",
       "\n",
       "    .dataframe tbody tr th {\n",
       "        vertical-align: top;\n",
       "    }\n",
       "\n",
       "    .dataframe thead th {\n",
       "        text-align: right;\n",
       "    }\n",
       "</style>\n",
       "<table border=\"1\" class=\"dataframe\">\n",
       "  <thead>\n",
       "    <tr style=\"text-align: right;\">\n",
       "      <th></th>\n",
       "      <th>Report State</th>\n",
       "      <th>Reported Tags</th>\n",
       "    </tr>\n",
       "  </thead>\n",
       "  <tbody>\n",
       "    <tr>\n",
       "      <th>0</th>\n",
       "      <td>Michoacán</td>\n",
       "      <td>3263</td>\n",
       "    </tr>\n",
       "    <tr>\n",
       "      <th>1</th>\n",
       "      <td>Mexico</td>\n",
       "      <td>56</td>\n",
       "    </tr>\n",
       "    <tr>\n",
       "      <th>2</th>\n",
       "      <td>TX</td>\n",
       "      <td>54</td>\n",
       "    </tr>\n",
       "    <tr>\n",
       "      <th>3</th>\n",
       "      <td>KS</td>\n",
       "      <td>48</td>\n",
       "    </tr>\n",
       "    <tr>\n",
       "      <th>4</th>\n",
       "      <td>MN</td>\n",
       "      <td>36</td>\n",
       "    </tr>\n",
       "    <tr>\n",
       "      <th>5</th>\n",
       "      <td>NY</td>\n",
       "      <td>30</td>\n",
       "    </tr>\n",
       "    <tr>\n",
       "      <th>6</th>\n",
       "      <td>NJ</td>\n",
       "      <td>28</td>\n",
       "    </tr>\n",
       "    <tr>\n",
       "      <th>7</th>\n",
       "      <td>PA</td>\n",
       "      <td>22</td>\n",
       "    </tr>\n",
       "    <tr>\n",
       "      <th>8</th>\n",
       "      <td>IA</td>\n",
       "      <td>17</td>\n",
       "    </tr>\n",
       "    <tr>\n",
       "      <th>9</th>\n",
       "      <td>FL</td>\n",
       "      <td>16</td>\n",
       "    </tr>\n",
       "  </tbody>\n",
       "</table>\n",
       "</div>"
      ],
      "text/plain": [
       "  Report State  Reported Tags\n",
       "0    Michoacán           3263\n",
       "1       Mexico             56\n",
       "2           TX             54\n",
       "3           KS             48\n",
       "4           MN             36\n",
       "5           NY             30\n",
       "6           NJ             28\n",
       "7           PA             22\n",
       "8           IA             17\n",
       "9           FL             16"
      ]
     },
     "metadata": {},
     "output_type": "display_data"
    }
   ],
   "source": [
    "tag_tally = pd.read_sql('SELECT `Tag State`, COUNT(*) AS \"Recovered Tags\" FROM combine GROUP BY `Tag State` ORDER BY `Recovered Tags`DESC', db)\n",
    "recover_tally = pd.read_sql('SELECT `Report State`, COUNT(*) AS \"Reported Tags\" FROM combine GROUP BY `Report State` ORDER BY `Reported Tags`DESC', db)\n",
    "tag_tally.loc[tag_tally['Tag State'].isnull(), 'Tag State'] = 'Unknown Origin'\n",
    "recover_tally.loc[recover_tally['Report State'].isnull(), 'Report State'] = 'Unknown'\n",
    "display(tag_tally.head(10))\n",
    "display(recover_tally.head(10))"
   ]
  },
  {
   "cell_type": "markdown",
   "metadata": {},
   "source": [
    "### Number of Recovered Monarch Butterflies per State and Season"
   ]
  },
  {
   "cell_type": "code",
   "execution_count": 17,
   "metadata": {},
   "outputs": [],
   "source": [
    "#2001\n",
    "monarchs2001_tally = pd.read_sql('SELECT `Tag State` AS tag_state, COUNT(*) AS \"recovered_tags\" FROM monarchs2001 GROUP BY `Tag State`', db)\n",
    "monarchs2001_tally.loc[monarchs2001_tally['tag_state'].isnull(), 'tag_state'] = 'Unknown Origin'\n",
    "#2000\n",
    "monarchs2000_tally = pd.read_sql('SELECT `Tag State` AS tag_state, COUNT(*) AS \"recovered_tags\" FROM monarchs2000 GROUP BY `Tag State`', db)\n",
    "monarchs2000_tally.loc[monarchs2000_tally['tag_state'].isnull(), 'tag_state'] = 'Unknown Origin'\n",
    "#1999\n",
    "monarchs1999_tally = pd.read_sql('SELECT `Tag State` AS tag_state, COUNT(*) AS \"recovered_tags\" FROM monarchs1999 GROUP BY `Tag State`', db)\n",
    "monarchs1999_tally.loc[monarchs1999_tally['tag_state'].isnull(), 'tag_state'] = 'Unknown Origin'\n",
    "#1998\n",
    "monarchs1998_tally = pd.read_sql('SELECT `Tag State` AS tag_state, COUNT(*) AS \"recovered_tags\" FROM monarchs1998 GROUP BY `Tag State`', db)\n",
    "monarchs1998_tally.loc[monarchs1998_tally['tag_state'].isnull(), 'tag_state'] = 'Unknown Origin'\n",
    "#1997\n",
    "monarchs1997_tally = pd.read_sql('SELECT `Tag State` AS tag_state, COUNT(*) AS \"recovered_tags\" FROM monarchs1997 GROUP BY `Tag State`', db)\n",
    "monarchs1997_tally.loc[monarchs1997_tally['tag_state'].isnull(), 'tag_state'] = 'Unknown Origin'\n",
    "#1996\n",
    "monarchs1996_tally = pd.read_sql('SELECT `Tag State` AS tag_state, COUNT(*) AS \"recovered_tags\" FROM monarchs1996 GROUP BY `Tag State`', db)\n",
    "monarchs1996_tally.loc[monarchs1996_tally['tag_state'].isnull(), 'tag_state'] = 'Unknown Origin'\n",
    "#1995\n",
    "monarchs1995_tally = pd.read_sql('SELECT `Tag State` AS tag_state, COUNT(*) AS \"recovered_tags\" FROM monarchs1995 GROUP BY `Tag State`', db)\n",
    "monarchs1995_tally.loc[monarchs1995_tally['tag_state'].isnull(), 'tag_state'] = 'Unknown Origin'\n",
    "#1994\n",
    "monarchs1994_tally = pd.read_sql('SELECT `Tag State` AS tag_state, COUNT(*) AS \"recovered_tags\" FROM monarchs1994 GROUP BY `Tag State`', db)\n",
    "monarchs1994_tally.loc[monarchs1994_tally['tag_state'].isnull(), 'tag_state'] = 'Unknown Origin'"
   ]
  },
  {
   "cell_type": "code",
   "execution_count": 27,
   "metadata": {},
   "outputs": [
    {
     "ename": "SyntaxError",
     "evalue": "invalid syntax (<ipython-input-27-6fb28ed3d949>, line 16)",
     "output_type": "error",
     "traceback": [
      "\u001b[1;36m  File \u001b[1;32m\"<ipython-input-27-6fb28ed3d949>\"\u001b[1;36m, line \u001b[1;32m16\u001b[0m\n\u001b[1;33m    lyt = dict(title = 'Monarch Butterflies Recovered Each Season',\u001b[0m\n\u001b[1;37m      ^\u001b[0m\n\u001b[1;31mSyntaxError\u001b[0m\u001b[1;31m:\u001b[0m invalid syntax\n"
     ]
    }
   ],
   "source": [
    "\n",
    "trace1 = go.Scatter(\n",
    "                    x = monarchs2001_tally.tag_state,\n",
    "                    y = monarchs2001_tally.recovered_tags,\n",
    "                    mode = \"lines\",\n",
    "                    name = \"2001 Season\",\n",
    "                    marker = dict(color = 'rgba(16, 112, 2, 0.8)'),\n",
    "                    \n",
    "trace2 = go.Scatter(\n",
    "                    x = monarchs2000_tally.tag_state,\n",
    "                    y = monarchs2000_tally.recovered_tags,\n",
    "                    mode = \"lines\",\n",
    "                    name = \"2000 Season\",\n",
    "                    marker = dict(color = 'rgba(16, 112, 2, 0.8)'),\n",
    "    \n",
    "data = [trace1, trace2]\n",
    "lyt = dict(title = 'Monarch Butterflies Recovered Each Season',\n",
    "              xaxis= dict(title= 'Tag State', ticklen= 5, zeroline= True)\n",
    "              )\n",
    "fig = dict(data = data, layout = layout)\n",
    "iplot(fig)"
   ]
  },
  {
   "cell_type": "code",
   "execution_count": 19,
   "metadata": {},
   "outputs": [
    {
     "data": {
      "text/plain": [
       "'file://C:\\\\Users\\\\Arink\\\\Desktop\\\\github\\\\CodeLou\\\\Monarchs\\\\temp-plot.html'"
      ]
     },
     "execution_count": 19,
     "metadata": {},
     "output_type": "execute_result"
    }
   ],
   "source": [
    "data = dict (\n",
    "    type = 'choropleth',\n",
    "    locations = tag_tally['Tag State'],\n",
    "    locationmode='USA-states',\n",
    "    autocolorscale = False,\n",
    "    colorscale = ['Rainbow'],\n",
    "    z=tag_tally['Recovered Tags'])\n",
    "\n",
    "\n",
    "lyt = dict(geo=dict(scope='north america'))\n",
    "map = go.Figure(data=[data], layout = lyt)\n",
    "py.offline.plot(map)"
   ]
  },
  {
   "cell_type": "markdown",
   "metadata": {},
   "source": [
    "### Embed Power BI maps, showing Tag Origin and Report Locations, as well as travel.\n",
    "#### Page 1 shows Tag Origin Locations and Tag Report Locations. Page 2 shows travel for all seasons."
   ]
  },
  {
   "cell_type": "code",
   "execution_count": null,
   "metadata": {},
   "outputs": [],
   "source": [
    "powerBiEmbed = 'https://app.powerbi.com/reportEmbed?reportId=96d602f4-ad60-4a7b-96b0-a92b0913e382&autoAuth=true&ctid=f2e33951-1ec4-4c72-b2bf-a4f4671d64af&config=eyJjbHVzdGVyVXJsIjoiaHR0cHM6Ly93YWJpLXVzLW5vcnRoLWNlbnRyYWwtYy1wcmltYXJ5LXJlZGlyZWN0LmFuYWx5c2lzLndpbmRvd3MubmV0LyJ9'\n",
    "IFrame(powerBiEmbed, width=1000, height=600)"
   ]
  },
  {
   "cell_type": "code",
   "execution_count": null,
   "metadata": {},
   "outputs": [],
   "source": []
  }
 ],
 "metadata": {
  "kernelspec": {
   "display_name": "Python 3",
   "language": "python",
   "name": "python3"
  },
  "language_info": {
   "codemirror_mode": {
    "name": "ipython",
    "version": 3
   },
   "file_extension": ".py",
   "mimetype": "text/x-python",
   "name": "python",
   "nbconvert_exporter": "python",
   "pygments_lexer": "ipython3",
   "version": "3.7.4"
  }
 },
 "nbformat": 4,
 "nbformat_minor": 2
}
