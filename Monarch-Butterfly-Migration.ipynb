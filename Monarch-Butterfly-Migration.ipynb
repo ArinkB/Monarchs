{
 "cells": [
  {
   "cell_type": "markdown",
   "metadata": {},
   "source": [
    "# MONARCH MIGRATION 1994 - 2001"
   ]
  },
  {
   "cell_type": "code",
   "execution_count": 60,
   "metadata": {},
   "outputs": [],
   "source": [
    "import pandas as pd\n",
    "import sqlite3\n",
    "import os"
   ]
  },
  {
   "cell_type": "code",
   "execution_count": 61,
   "metadata": {},
   "outputs": [],
   "source": [
    "db = sqlite3.connect(\"Monarchs.db\")"
   ]
  },
  {
   "cell_type": "markdown",
   "metadata": {},
   "source": [
    "### Read CSV for each year"
   ]
  },
  {
   "cell_type": "code",
   "execution_count": 62,
   "metadata": {},
   "outputs": [],
   "source": [
    "monarchs2001 = pd.read_pickle(\"Data\\Monarchs2001.pkl\")\n",
    "monarchs2000 = pd.read_pickle(\"Data\\Monarchs2000.pkl\")\n",
    "monarchs1999 = pd.read_pickle(\"Data\\Monarchs1999.pkl\")\n",
    "monarchs1998 = pd.read_pickle(\"Data\\Monarchs1998.pkl\")\n",
    "monarchs1997 = pd.read_pickle(\"Data\\Monarchs1997.pkl\")\n",
    "monarchs1996 = pd.read_pickle(\"Data\\Monarchs1996.pkl\")\n",
    "monarchs1995 = pd.read_pickle(\"Data\\Monarchs1995.pkl\")\n",
    "monarchs1994 = pd.read_pickle(\"Data\\Monarchs1994.pkl\")"
   ]
  },
  {
   "cell_type": "markdown",
   "metadata": {},
   "source": [
    "### Convert pandas to SQL table"
   ]
  },
  {
   "cell_type": "code",
   "execution_count": 63,
   "metadata": {},
   "outputs": [
    {
     "name": "stderr",
     "output_type": "stream",
     "text": [
      "C:\\Users\\Arink\\Anaconda3\\lib\\site-packages\\pandas\\core\\generic.py:2712: UserWarning: The spaces in these column names will not be changed. In pandas versions < 0.14, spaces were converted to underscores.\n",
      "  method=method,\n"
     ]
    },
    {
     "data": {
      "text/plain": [
       "'C:\\\\Users\\\\Arink\\\\Desktop\\\\github\\\\CodeLou\\\\Monarchs'"
      ]
     },
     "execution_count": 63,
     "metadata": {},
     "output_type": "execute_result"
    }
   ],
   "source": [
    "monarchs2001.to_sql(\"Monarchs2001\", db, if_exists=\"replace\")\n",
    "monarchs2000.to_sql(\"monarchs2000\", db, if_exists=\"replace\")\n",
    "monarchs1999.to_sql(\"monarchs1999\", db, if_exists=\"replace\")\n",
    "monarchs1998.to_sql(\"monarchs1998\", db, if_exists=\"replace\")\n",
    "monarchs1997.to_sql(\"monarchs1997\", db, if_exists=\"replace\")\n",
    "monarchs1996.to_sql(\"monarchs1996\", db, if_exists=\"replace\")\n",
    "monarchs1995.to_sql(\"monarchs1995\", db, if_exists=\"replace\")\n",
    "monarchs1994.to_sql(\"monarchs1994\", db, if_exists=\"replace\")\n",
    "\n",
    "os.getcwd()"
   ]
  },
  {
   "cell_type": "markdown",
   "metadata": {},
   "source": [
    "### View Schema \n",
    "##### All CSVs have same columns (Previously cleaned in DATA folder)"
   ]
  },
  {
   "cell_type": "code",
   "execution_count": 64,
   "metadata": {},
   "outputs": [
    {
     "data": {
      "text/html": [
       "<div>\n",
       "<style scoped>\n",
       "    .dataframe tbody tr th:only-of-type {\n",
       "        vertical-align: middle;\n",
       "    }\n",
       "\n",
       "    .dataframe tbody tr th {\n",
       "        vertical-align: top;\n",
       "    }\n",
       "\n",
       "    .dataframe thead th {\n",
       "        text-align: right;\n",
       "    }\n",
       "</style>\n",
       "<table border=\"1\" class=\"dataframe\">\n",
       "  <thead>\n",
       "    <tr style=\"text-align: right;\">\n",
       "      <th></th>\n",
       "      <th>cid</th>\n",
       "      <th>name</th>\n",
       "      <th>type</th>\n",
       "      <th>notnull</th>\n",
       "      <th>dflt_value</th>\n",
       "      <th>pk</th>\n",
       "    </tr>\n",
       "  </thead>\n",
       "  <tbody>\n",
       "    <tr>\n",
       "      <th>0</th>\n",
       "      <td>0</td>\n",
       "      <td>index</td>\n",
       "      <td>INTEGER</td>\n",
       "      <td>0</td>\n",
       "      <td>None</td>\n",
       "      <td>0</td>\n",
       "    </tr>\n",
       "    <tr>\n",
       "      <th>1</th>\n",
       "      <td>1</td>\n",
       "      <td>Tag No.</td>\n",
       "      <td>TEXT</td>\n",
       "      <td>0</td>\n",
       "      <td>None</td>\n",
       "      <td>0</td>\n",
       "    </tr>\n",
       "    <tr>\n",
       "      <th>2</th>\n",
       "      <td>2</td>\n",
       "      <td>Tag State</td>\n",
       "      <td>TEXT</td>\n",
       "      <td>0</td>\n",
       "      <td>None</td>\n",
       "      <td>0</td>\n",
       "    </tr>\n",
       "    <tr>\n",
       "      <th>3</th>\n",
       "      <td>3</td>\n",
       "      <td>Tag Date</td>\n",
       "      <td>TIMESTAMP</td>\n",
       "      <td>0</td>\n",
       "      <td>None</td>\n",
       "      <td>0</td>\n",
       "    </tr>\n",
       "    <tr>\n",
       "      <th>4</th>\n",
       "      <td>4</td>\n",
       "      <td>Report State</td>\n",
       "      <td>TEXT</td>\n",
       "      <td>0</td>\n",
       "      <td>None</td>\n",
       "      <td>0</td>\n",
       "    </tr>\n",
       "    <tr>\n",
       "      <th>5</th>\n",
       "      <td>5</td>\n",
       "      <td>Report Country</td>\n",
       "      <td>TEXT</td>\n",
       "      <td>0</td>\n",
       "      <td>None</td>\n",
       "      <td>0</td>\n",
       "    </tr>\n",
       "    <tr>\n",
       "      <th>6</th>\n",
       "      <td>6</td>\n",
       "      <td>Report Date</td>\n",
       "      <td>TIMESTAMP</td>\n",
       "      <td>0</td>\n",
       "      <td>None</td>\n",
       "      <td>0</td>\n",
       "    </tr>\n",
       "    <tr>\n",
       "      <th>7</th>\n",
       "      <td>7</td>\n",
       "      <td>Miles</td>\n",
       "      <td>REAL</td>\n",
       "      <td>0</td>\n",
       "      <td>None</td>\n",
       "      <td>0</td>\n",
       "    </tr>\n",
       "  </tbody>\n",
       "</table>\n",
       "</div>"
      ],
      "text/plain": [
       "   cid            name       type  notnull dflt_value  pk\n",
       "0    0           index    INTEGER        0       None   0\n",
       "1    1         Tag No.       TEXT        0       None   0\n",
       "2    2       Tag State       TEXT        0       None   0\n",
       "3    3        Tag Date  TIMESTAMP        0       None   0\n",
       "4    4    Report State       TEXT        0       None   0\n",
       "5    5  Report Country       TEXT        0       None   0\n",
       "6    6     Report Date  TIMESTAMP        0       None   0\n",
       "7    7           Miles       REAL        0       None   0"
      ]
     },
     "execution_count": 64,
     "metadata": {},
     "output_type": "execute_result"
    }
   ],
   "source": [
    "data_type = pd.read_sql('SELECT * FROM PRAGMA_TABLE_INFO(\"monarchs2001\")', db)\n",
    "data_type"
   ]
  },
  {
   "cell_type": "markdown",
   "metadata": {},
   "source": [
    "### Combine all years"
   ]
  },
  {
   "cell_type": "code",
   "execution_count": 65,
   "metadata": {},
   "outputs": [
    {
     "data": {
      "text/plain": [
       "Tag No.                   object\n",
       "Tag State                 object\n",
       "Tag Date          datetime64[ns]\n",
       "Report State              object\n",
       "Report Country            object\n",
       "Report Date       datetime64[ns]\n",
       "Miles                     object\n",
       "dtype: object"
      ]
     },
     "execution_count": 65,
     "metadata": {},
     "output_type": "execute_result"
    }
   ],
   "source": [
    "combine =  pd.concat([monarchs2001, monarchs2000, monarchs1999, monarchs1998, monarchs1997, monarchs1996, monarchs1995, monarchs1994], axis =0)\n",
    "#combine.columns = [\"tag_no\", \"tag_state\", \"tag_date\",\"report_state\", \"report_country\", \"report_date\", \"miles\"]\n",
    "#combine[\"Tag Date\"] = combine[\"Tag Date\"].astype(str)\n",
    "combine.to_sql(\"combine\", db, if_exists=\"replace\")\n",
    "combine.dtypes"
   ]
  },
  {
   "cell_type": "code",
   "execution_count": 69,
   "metadata": {},
   "outputs": [],
   "source": [
    "state_tally = pd.read_sql('SELECT `Tag State`, COUNT(*) AS \"Recovered Tags\" FROM combine GROUP BY `Tag State` ORDER BY `Recovered Tags`DESC', db)\n",
    "#state_tally = pd.read_sql('SELECT `Report State`, COUNT(*) AS \"Recovered Tags\" FROM monarchs1994 GROUP BY `Report State` ORDER BY `Report State`', db)"
   ]
  },
  {
   "cell_type": "code",
   "execution_count": null,
   "metadata": {},
   "outputs": [],
   "source": []
  }
 ],
 "metadata": {
  "kernelspec": {
   "display_name": "Python 3",
   "language": "python",
   "name": "python3"
  },
  "language_info": {
   "codemirror_mode": {
    "name": "ipython",
    "version": 3
   },
   "file_extension": ".py",
   "mimetype": "text/x-python",
   "name": "python",
   "nbconvert_exporter": "python",
   "pygments_lexer": "ipython3",
   "version": "3.7.4"
  }
 },
 "nbformat": 4,
 "nbformat_minor": 2
}
