{
 "cells": [
  {
   "cell_type": "markdown",
   "metadata": {},
   "source": [
    "<h1><center><font color=\"cc5500\"> MONARCH MIGRATION 1994 - 2001</font></center></h1>"
   ]
  },
  {
   "cell_type": "code",
   "execution_count": 11,
   "metadata": {},
   "outputs": [
    {
     "data": {
      "text/html": [
       "<style>\n",
       ".output {\n",
       "    flex-direction: row;\n",
       "}\n",
       "img {\n",
       "  border-radius: 50%;\n",
       "}\n",
       "</style>"
      ],
      "text/plain": [
       "<IPython.core.display.HTML object>"
      ]
     },
     "execution_count": 11,
     "metadata": {},
     "output_type": "execute_result"
    }
   ],
   "source": [
    "import plotly as py\n",
    "from plotly.subplots import make_subplots\n",
    "import plotly.graph_objects as go\n",
    "import pandas as pd\n",
    "import sqlite3\n",
    "import os\n",
    "from IPython.display import IFrame, HTML\n",
    "\n",
    "# CSS adjustment to view tables side by side\n",
    "\n",
    "CSS = \"\"\"\n",
    ".output {\n",
    "    flex-direction: row;\n",
    "}\n",
    "img {\n",
    "  border-radius: 50%;\n",
    "}\n",
    "\"\"\"\n",
    "\n",
    "HTML('<style>{}</style>'.format(CSS))"
   ]
  },
  {
   "cell_type": "code",
   "execution_count": 12,
   "metadata": {},
   "outputs": [],
   "source": [
    "db = sqlite3.connect(\"Monarchs.db\")"
   ]
  },
  {
   "cell_type": "markdown",
   "metadata": {},
   "source": [
    "### Read pkl for each year"
   ]
  },
  {
   "cell_type": "code",
   "execution_count": 13,
   "metadata": {},
   "outputs": [],
   "source": [
    "monarchs2001 = pd.read_pickle(\"Data/pkl/Monarchs2001.pkl\")\n",
    "monarchs2000 = pd.read_pickle(\"Data/pkl/Monarchs2000.pkl\")\n",
    "monarchs1999 = pd.read_pickle(\"Data/pkl/Monarchs1999.pkl\")\n",
    "monarchs1998 = pd.read_pickle(\"Data/pkl/Monarchs1998.pkl\")\n",
    "monarchs1997 = pd.read_pickle(\"Data/pkl/Monarchs1997.pkl\")\n",
    "monarchs1996 = pd.read_pickle(\"Data/pkl/Monarchs1996.pkl\")\n",
    "monarchs1995 = pd.read_pickle(\"Data/pkl/Monarchs1995.pkl\")\n",
    "monarchs1994 = pd.read_pickle(\"Data/pkl/Monarchs1994.pkl\")"
   ]
  },
  {
   "cell_type": "markdown",
   "metadata": {},
   "source": [
    "### Convert pandas to SQL table"
   ]
  },
  {
   "cell_type": "code",
   "execution_count": 14,
   "metadata": {},
   "outputs": [
    {
     "name": "stderr",
     "output_type": "stream",
     "text": [
      "C:\\Users\\Arink\\Anaconda3\\lib\\site-packages\\pandas\\core\\generic.py:2663: UserWarning:\n",
      "\n",
      "The spaces in these column names will not be changed. In pandas versions < 0.14, spaces were converted to underscores.\n",
      "\n"
     ]
    },
    {
     "data": {
      "text/plain": [
       "'C:\\\\Users\\\\Arink\\\\Desktop\\\\github\\\\CodeLou\\\\Monarchs'"
      ]
     },
     "execution_count": 14,
     "metadata": {},
     "output_type": "execute_result"
    }
   ],
   "source": [
    "monarchs2001.to_sql(\"Monarchs2001\", db, if_exists=\"replace\")\n",
    "monarchs2000.to_sql(\"monarchs2000\", db, if_exists=\"replace\")\n",
    "monarchs1999.to_sql(\"monarchs1999\", db, if_exists=\"replace\")\n",
    "monarchs1998.to_sql(\"monarchs1998\", db, if_exists=\"replace\")\n",
    "monarchs1997.to_sql(\"monarchs1997\", db, if_exists=\"replace\")\n",
    "monarchs1996.to_sql(\"monarchs1996\", db, if_exists=\"replace\")\n",
    "monarchs1995.to_sql(\"monarchs1995\", db, if_exists=\"replace\")\n",
    "monarchs1994.to_sql(\"monarchs1994\", db, if_exists=\"replace\")\n",
    "\n",
    "os.getcwd()"
   ]
  },
  {
   "cell_type": "markdown",
   "metadata": {},
   "source": [
    "### View Schema \n",
    "##### All CSVs have same columns (Previously cleaned in DATA folder)"
   ]
  },
  {
   "cell_type": "code",
   "execution_count": 15,
   "metadata": {},
   "outputs": [
    {
     "data": {
      "text/html": [
       "<div>\n",
       "<style scoped>\n",
       "    .dataframe tbody tr th:only-of-type {\n",
       "        vertical-align: middle;\n",
       "    }\n",
       "\n",
       "    .dataframe tbody tr th {\n",
       "        vertical-align: top;\n",
       "    }\n",
       "\n",
       "    .dataframe thead th {\n",
       "        text-align: right;\n",
       "    }\n",
       "</style>\n",
       "<table border=\"1\" class=\"dataframe\">\n",
       "  <thead>\n",
       "    <tr style=\"text-align: right;\">\n",
       "      <th></th>\n",
       "      <th>cid</th>\n",
       "      <th>name</th>\n",
       "      <th>type</th>\n",
       "      <th>notnull</th>\n",
       "      <th>dflt_value</th>\n",
       "      <th>pk</th>\n",
       "    </tr>\n",
       "  </thead>\n",
       "  <tbody>\n",
       "    <tr>\n",
       "      <th>0</th>\n",
       "      <td>0</td>\n",
       "      <td>index</td>\n",
       "      <td>INTEGER</td>\n",
       "      <td>0</td>\n",
       "      <td>None</td>\n",
       "      <td>0</td>\n",
       "    </tr>\n",
       "    <tr>\n",
       "      <th>1</th>\n",
       "      <td>1</td>\n",
       "      <td>Tag No.</td>\n",
       "      <td>TEXT</td>\n",
       "      <td>0</td>\n",
       "      <td>None</td>\n",
       "      <td>0</td>\n",
       "    </tr>\n",
       "    <tr>\n",
       "      <th>2</th>\n",
       "      <td>2</td>\n",
       "      <td>Tag State</td>\n",
       "      <td>TEXT</td>\n",
       "      <td>0</td>\n",
       "      <td>None</td>\n",
       "      <td>0</td>\n",
       "    </tr>\n",
       "    <tr>\n",
       "      <th>3</th>\n",
       "      <td>3</td>\n",
       "      <td>Tag Date</td>\n",
       "      <td>TIMESTAMP</td>\n",
       "      <td>0</td>\n",
       "      <td>None</td>\n",
       "      <td>0</td>\n",
       "    </tr>\n",
       "    <tr>\n",
       "      <th>4</th>\n",
       "      <td>4</td>\n",
       "      <td>Report State</td>\n",
       "      <td>TEXT</td>\n",
       "      <td>0</td>\n",
       "      <td>None</td>\n",
       "      <td>0</td>\n",
       "    </tr>\n",
       "    <tr>\n",
       "      <th>5</th>\n",
       "      <td>5</td>\n",
       "      <td>Report Country</td>\n",
       "      <td>TEXT</td>\n",
       "      <td>0</td>\n",
       "      <td>None</td>\n",
       "      <td>0</td>\n",
       "    </tr>\n",
       "    <tr>\n",
       "      <th>6</th>\n",
       "      <td>6</td>\n",
       "      <td>Report Date</td>\n",
       "      <td>TIMESTAMP</td>\n",
       "      <td>0</td>\n",
       "      <td>None</td>\n",
       "      <td>0</td>\n",
       "    </tr>\n",
       "    <tr>\n",
       "      <th>7</th>\n",
       "      <td>7</td>\n",
       "      <td>Miles</td>\n",
       "      <td>REAL</td>\n",
       "      <td>0</td>\n",
       "      <td>None</td>\n",
       "      <td>0</td>\n",
       "    </tr>\n",
       "    <tr>\n",
       "      <th>8</th>\n",
       "      <td>8</td>\n",
       "      <td>Season</td>\n",
       "      <td>TEXT</td>\n",
       "      <td>0</td>\n",
       "      <td>None</td>\n",
       "      <td>0</td>\n",
       "    </tr>\n",
       "  </tbody>\n",
       "</table>\n",
       "</div>"
      ],
      "text/plain": [
       "   cid            name       type  notnull dflt_value  pk\n",
       "0    0           index    INTEGER        0       None   0\n",
       "1    1         Tag No.       TEXT        0       None   0\n",
       "2    2       Tag State       TEXT        0       None   0\n",
       "3    3        Tag Date  TIMESTAMP        0       None   0\n",
       "4    4    Report State       TEXT        0       None   0\n",
       "5    5  Report Country       TEXT        0       None   0\n",
       "6    6     Report Date  TIMESTAMP        0       None   0\n",
       "7    7           Miles       REAL        0       None   0\n",
       "8    8          Season       TEXT        0       None   0"
      ]
     },
     "execution_count": 15,
     "metadata": {},
     "output_type": "execute_result"
    }
   ],
   "source": [
    "data_type = pd.read_sql('SELECT * FROM PRAGMA_TABLE_INFO(\"monarchs2001\")', db)\n",
    "data_type"
   ]
  },
  {
   "cell_type": "markdown",
   "metadata": {},
   "source": [
    "<img src=\"tag2.jpg\" title=\"Tagging Monarch Butterfly\" alt=\"Tagging monarch butterflies\" style=\"width:400px;height:350px\"/> "
   ]
  },
  {
   "cell_type": "markdown",
   "metadata": {},
   "source": [
    "### Combine all years"
   ]
  },
  {
   "cell_type": "code",
   "execution_count": 16,
   "metadata": {},
   "outputs": [
    {
     "name": "stderr",
     "output_type": "stream",
     "text": [
      "C:\\Users\\Arink\\Anaconda3\\lib\\site-packages\\pandas\\core\\generic.py:2663: UserWarning:\n",
      "\n",
      "The spaces in these column names will not be changed. In pandas versions < 0.14, spaces were converted to underscores.\n",
      "\n"
     ]
    }
   ],
   "source": [
    "combine =  pd.concat([monarchs2001, monarchs2000, monarchs1999, monarchs1998, monarchs1997, monarchs1996, monarchs1995, monarchs1994], axis =0)\n",
    "#combine.columns = [\"tag_no\", \"tag_state\", \"tag_date\",\"report_state\", \"report_country\", \"report_date\", \"miles\"]\n",
    "#combine[\"Tag Date\"] = combine[\"Tag Date\"].astype(str)\n",
    "combine.to_sql(\"combine\", db, if_exists=\"replace\")"
   ]
  },
  {
   "cell_type": "markdown",
   "metadata": {},
   "source": [
    "#### How many tags were recovered from each state & How many tags did each state recover"
   ]
  },
  {
   "cell_type": "code",
   "execution_count": 17,
   "metadata": {},
   "outputs": [
    {
     "data": {
      "text/html": [
       "<div>\n",
       "<style scoped>\n",
       "    .dataframe tbody tr th:only-of-type {\n",
       "        vertical-align: middle;\n",
       "    }\n",
       "\n",
       "    .dataframe tbody tr th {\n",
       "        vertical-align: top;\n",
       "    }\n",
       "\n",
       "    .dataframe thead th {\n",
       "        text-align: right;\n",
       "    }\n",
       "</style>\n",
       "<table border=\"1\" class=\"dataframe\">\n",
       "  <thead>\n",
       "    <tr style=\"text-align: right;\">\n",
       "      <th></th>\n",
       "      <th>Tag State</th>\n",
       "      <th>Recovered Tags</th>\n",
       "    </tr>\n",
       "  </thead>\n",
       "  <tbody>\n",
       "    <tr>\n",
       "      <th>0</th>\n",
       "      <td>KS</td>\n",
       "      <td>776</td>\n",
       "    </tr>\n",
       "    <tr>\n",
       "      <th>1</th>\n",
       "      <td>IA</td>\n",
       "      <td>573</td>\n",
       "    </tr>\n",
       "    <tr>\n",
       "      <th>2</th>\n",
       "      <td>MN</td>\n",
       "      <td>479</td>\n",
       "    </tr>\n",
       "    <tr>\n",
       "      <th>3</th>\n",
       "      <td>TX</td>\n",
       "      <td>388</td>\n",
       "    </tr>\n",
       "    <tr>\n",
       "      <th>4</th>\n",
       "      <td>OK</td>\n",
       "      <td>185</td>\n",
       "    </tr>\n",
       "    <tr>\n",
       "      <th>5</th>\n",
       "      <td>Unknown Origin</td>\n",
       "      <td>170</td>\n",
       "    </tr>\n",
       "    <tr>\n",
       "      <th>6</th>\n",
       "      <td>SD</td>\n",
       "      <td>133</td>\n",
       "    </tr>\n",
       "    <tr>\n",
       "      <th>7</th>\n",
       "      <td>NE</td>\n",
       "      <td>119</td>\n",
       "    </tr>\n",
       "    <tr>\n",
       "      <th>8</th>\n",
       "      <td>IL</td>\n",
       "      <td>100</td>\n",
       "    </tr>\n",
       "    <tr>\n",
       "      <th>9</th>\n",
       "      <td>OH</td>\n",
       "      <td>91</td>\n",
       "    </tr>\n",
       "  </tbody>\n",
       "</table>\n",
       "</div>"
      ],
      "text/plain": [
       "        Tag State  Recovered Tags\n",
       "0              KS             776\n",
       "1              IA             573\n",
       "2              MN             479\n",
       "3              TX             388\n",
       "4              OK             185\n",
       "5  Unknown Origin             170\n",
       "6              SD             133\n",
       "7              NE             119\n",
       "8              IL             100\n",
       "9              OH              91"
      ]
     },
     "metadata": {},
     "output_type": "display_data"
    },
    {
     "data": {
      "text/html": [
       "<div>\n",
       "<style scoped>\n",
       "    .dataframe tbody tr th:only-of-type {\n",
       "        vertical-align: middle;\n",
       "    }\n",
       "\n",
       "    .dataframe tbody tr th {\n",
       "        vertical-align: top;\n",
       "    }\n",
       "\n",
       "    .dataframe thead th {\n",
       "        text-align: right;\n",
       "    }\n",
       "</style>\n",
       "<table border=\"1\" class=\"dataframe\">\n",
       "  <thead>\n",
       "    <tr style=\"text-align: right;\">\n",
       "      <th></th>\n",
       "      <th>Report State</th>\n",
       "      <th>Reported Tags</th>\n",
       "    </tr>\n",
       "  </thead>\n",
       "  <tbody>\n",
       "    <tr>\n",
       "      <th>0</th>\n",
       "      <td>Michoacán</td>\n",
       "      <td>3263</td>\n",
       "    </tr>\n",
       "    <tr>\n",
       "      <th>1</th>\n",
       "      <td>Mexico</td>\n",
       "      <td>56</td>\n",
       "    </tr>\n",
       "    <tr>\n",
       "      <th>2</th>\n",
       "      <td>TX</td>\n",
       "      <td>54</td>\n",
       "    </tr>\n",
       "    <tr>\n",
       "      <th>3</th>\n",
       "      <td>KS</td>\n",
       "      <td>48</td>\n",
       "    </tr>\n",
       "    <tr>\n",
       "      <th>4</th>\n",
       "      <td>MN</td>\n",
       "      <td>36</td>\n",
       "    </tr>\n",
       "    <tr>\n",
       "      <th>5</th>\n",
       "      <td>NY</td>\n",
       "      <td>30</td>\n",
       "    </tr>\n",
       "    <tr>\n",
       "      <th>6</th>\n",
       "      <td>NJ</td>\n",
       "      <td>28</td>\n",
       "    </tr>\n",
       "    <tr>\n",
       "      <th>7</th>\n",
       "      <td>PA</td>\n",
       "      <td>22</td>\n",
       "    </tr>\n",
       "    <tr>\n",
       "      <th>8</th>\n",
       "      <td>IA</td>\n",
       "      <td>17</td>\n",
       "    </tr>\n",
       "    <tr>\n",
       "      <th>9</th>\n",
       "      <td>FL</td>\n",
       "      <td>16</td>\n",
       "    </tr>\n",
       "  </tbody>\n",
       "</table>\n",
       "</div>"
      ],
      "text/plain": [
       "  Report State  Reported Tags\n",
       "0    Michoacán           3263\n",
       "1       Mexico             56\n",
       "2           TX             54\n",
       "3           KS             48\n",
       "4           MN             36\n",
       "5           NY             30\n",
       "6           NJ             28\n",
       "7           PA             22\n",
       "8           IA             17\n",
       "9           FL             16"
      ]
     },
     "metadata": {},
     "output_type": "display_data"
    }
   ],
   "source": [
    "tag_tally = pd.read_sql('SELECT `Tag State`, COUNT(*) AS \"Recovered Tags\" FROM combine GROUP BY `Tag State` ORDER BY `Recovered Tags`DESC', db)\n",
    "recover_tally = pd.read_sql('SELECT `Report State`, COUNT(*) AS \"Reported Tags\" FROM combine GROUP BY `Report State` ORDER BY `Reported Tags`DESC', db)\n",
    "tag_tally.loc[tag_tally['Tag State'].isnull(), 'Tag State'] = 'Unknown Origin'\n",
    "recover_tally.loc[recover_tally['Report State'].isnull(), 'Report State'] = 'Unknown'\n",
    "display(tag_tally.head(10))\n",
    "display(recover_tally.head(10))"
   ]
  },
  {
   "cell_type": "markdown",
   "metadata": {},
   "source": [
    "### Number of Recovered Monarch Butterflies per State and Season"
   ]
  },
  {
   "cell_type": "code",
   "execution_count": 18,
   "metadata": {},
   "outputs": [],
   "source": [
    "#2001\n",
    "monarchs2001_tally = pd.read_sql('SELECT `Tag State` AS tag_state, COUNT(*) AS \"recovered_tags\" FROM monarchs2001 GROUP BY `Tag State`', db)\n",
    "monarchs2001_tally.loc[monarchs2001_tally['tag_state'].isnull(), 'tag_state'] = 'Unknown'\n",
    "#2000\n",
    "monarchs2000_tally = pd.read_sql('SELECT `Tag State` AS tag_state, COUNT(*) AS \"recovered_tags\" FROM monarchs2000 GROUP BY `Tag State`', db)\n",
    "monarchs2000_tally.loc[monarchs2000_tally['tag_state'].isnull(), 'tag_state'] = 'Unknown'\n",
    "#1999\n",
    "monarchs1999_tally = pd.read_sql('SELECT `Tag State` AS tag_state, COUNT(*) AS \"recovered_tags\" FROM monarchs1999 GROUP BY `Tag State`', db)\n",
    "monarchs1999_tally.loc[monarchs1999_tally['tag_state'].isnull(), 'tag_state'] = 'Unknown'\n",
    "#1998\n",
    "monarchs1998_tally = pd.read_sql('SELECT `Tag State` AS tag_state, COUNT(*) AS \"recovered_tags\" FROM monarchs1998 GROUP BY `Tag State`', db)\n",
    "monarchs1998_tally.loc[monarchs1998_tally['tag_state'].isnull(), 'tag_state'] = 'Unknown'\n",
    "#1997\n",
    "monarchs1997_tally = pd.read_sql('SELECT `Tag State` AS tag_state, COUNT(*) AS \"recovered_tags\" FROM monarchs1997 GROUP BY `Tag State`', db)\n",
    "monarchs1997_tally.loc[monarchs1997_tally['tag_state'].isnull(), 'tag_state'] = 'Unknown'\n",
    "#1996\n",
    "monarchs1996_tally = pd.read_sql('SELECT `Tag State` AS tag_state, COUNT(*) AS \"recovered_tags\" FROM monarchs1996 GROUP BY `Tag State`', db)\n",
    "monarchs1996_tally.loc[monarchs1996_tally['tag_state'].isnull(), 'tag_state'] = 'Unknown'\n",
    "#1995\n",
    "monarchs1995_tally = pd.read_sql('SELECT `Tag State` AS tag_state, COUNT(*) AS \"recovered_tags\" FROM monarchs1995 GROUP BY `Tag State`', db)\n",
    "monarchs1995_tally.loc[monarchs1995_tally['tag_state'].isnull(), 'tag_state'] = 'Unknown'\n",
    "#1994\n",
    "monarchs1994_tally = pd.read_sql('SELECT `Tag State` AS tag_state, COUNT(*) AS \"recovered_tags\" FROM monarchs1994 GROUP BY `Tag State`', db)\n",
    "monarchs1994_tally.loc[monarchs1994_tally['tag_state'].isnull(), 'tag_state'] = 'Unknown'"
   ]
  },
  {
   "cell_type": "markdown",
   "metadata": {},
   "source": [
    "### Show tags per state per season"
   ]
  },
  {
   "cell_type": "code",
   "execution_count": 19,
   "metadata": {},
   "outputs": [
    {
     "data": {
      "application/vnd.plotly.v1+json": {
       "config": {
        "plotlyServerURL": "https://plot.ly"
       },
       "data": [
        {
         "type": "scatter",
         "x": [
          "Unknown",
          "AR",
          "CT",
          "Coahuila",
          "DC",
          "FL",
          "GA",
          "IA",
          "IL",
          "IN",
          "KS",
          "KY",
          "MA",
          "MD",
          "ME",
          "MI",
          "MN",
          "MO",
          "NC",
          "ND",
          "NE",
          "NH",
          "NJ",
          "NY",
          "Nuevo Leon",
          "OH",
          "OK",
          "Ontario",
          "PA",
          "Quebec",
          "SC",
          "SD",
          "TN",
          "TX",
          "VA",
          "VT",
          "WI",
          "WV",
          "WY"
         ],
         "xaxis": "x",
         "y": [
          95,
          8,
          19,
          2,
          1,
          5,
          2,
          360,
          63,
          32,
          300,
          9,
          3,
          8,
          1,
          29,
          284,
          20,
          7,
          9,
          63,
          1,
          13,
          14,
          7,
          61,
          115,
          33,
          22,
          1,
          3,
          78,
          1,
          243,
          17,
          1,
          23,
          6,
          3
         ],
         "yaxis": "y"
        },
        {
         "type": "scatter",
         "x": [
          "Unknown",
          "AR",
          "CT",
          "FL",
          "IA",
          "IL",
          "IN",
          "KS",
          "KY",
          "MA",
          "ME",
          "MI",
          "MN",
          "MO",
          "NC",
          "NE",
          "NJ",
          "Nuevo Leon",
          "OH",
          "OK",
          "Ontario",
          "PA",
          "Quebec",
          "SC",
          "SD",
          "TX",
          "VA",
          "VT",
          "WI",
          "WV"
         ],
         "xaxis": "x2",
         "y": [
          3,
          5,
          11,
          1,
          48,
          6,
          1,
          68,
          1,
          1,
          1,
          6,
          31,
          6,
          1,
          17,
          3,
          2,
          6,
          7,
          3,
          2,
          3,
          1,
          23,
          24,
          4,
          1,
          5,
          4
         ],
         "yaxis": "y2"
        },
        {
         "type": "scatter",
         "x": [
          "Unknown",
          "AR",
          "CO",
          "CT",
          "FL",
          "IA",
          "IL",
          "IN",
          "KS",
          "KY",
          "MA",
          "MD",
          "ME",
          "MI",
          "MN",
          "MO",
          "MS",
          "MX",
          "NC",
          "ND",
          "NE",
          "NH",
          "NJ",
          "NY",
          "OH",
          "OK",
          "Ontario",
          "PA",
          "Quebec",
          "SC",
          "SD",
          "TX",
          "VA",
          "VT",
          "WI",
          "WV"
         ],
         "xaxis": "x3",
         "y": [
          5,
          16,
          3,
          6,
          2,
          107,
          25,
          19,
          140,
          3,
          7,
          4,
          2,
          19,
          107,
          9,
          2,
          14,
          5,
          4,
          18,
          1,
          5,
          16,
          11,
          20,
          17,
          18,
          3,
          2,
          23,
          78,
          8,
          2,
          26,
          4
         ],
         "yaxis": "y3"
        },
        {
         "type": "scatter",
         "x": [
          "Unknown",
          "AR",
          "CT",
          "Coahuila",
          "FL",
          "IA",
          "IL",
          "IN",
          "KS",
          "KY",
          "MA",
          "MD",
          "ME",
          "MI",
          "MN",
          "MO",
          "NE",
          "NJ",
          "NY",
          "Nuevo Leon",
          "OH",
          "OK",
          "Ontario",
          "PA",
          "SD",
          "TN",
          "TX",
          "VA",
          "WI",
          "WV"
         ],
         "xaxis": "x4",
         "y": [
          63,
          2,
          7,
          4,
          1,
          36,
          3,
          2,
          177,
          1,
          1,
          2,
          1,
          1,
          32,
          6,
          17,
          4,
          2,
          1,
          7,
          32,
          3,
          5,
          9,
          1,
          29,
          3,
          5,
          2
         ],
         "yaxis": "y4"
        },
        {
         "type": "scatter",
         "x": [
          "AR",
          "CO",
          "CT",
          "IA",
          "KS",
          "LA",
          "MA",
          "MD",
          "ME",
          "MI",
          "MN",
          "MO",
          "ND",
          "NE",
          "NH",
          "NY",
          "OH",
          "OK",
          "PA",
          "SC",
          "TX",
          "WI",
          "WV"
         ],
         "xaxis": "x5",
         "y": [
          1,
          1,
          2,
          10,
          27,
          1,
          1,
          1,
          1,
          2,
          11,
          4,
          1,
          3,
          1,
          3,
          5,
          6,
          10,
          2,
          5,
          4,
          1
         ],
         "yaxis": "y5"
        },
        {
         "type": "scatter",
         "x": [
          "Unknown",
          "IA",
          "IL",
          "KS",
          "LA",
          "ME",
          "MI",
          "MN",
          "MO",
          "NH",
          "NY",
          "OK",
          "Ontario",
          "SC",
          "TX",
          "VA",
          "VT",
          "WV"
         ],
         "xaxis": "x6",
         "y": [
          1,
          4,
          3,
          35,
          2,
          1,
          1,
          6,
          1,
          1,
          4,
          3,
          2,
          1,
          5,
          2,
          1,
          2
         ],
         "yaxis": "y6"
        },
        {
         "type": "scatter",
         "x": [
          "Unknown",
          "AR",
          "IA",
          "KS",
          "MA",
          "MD",
          "MN",
          "NH",
          "NJ",
          "NY",
          "OH",
          "PA",
          "TX",
          "WI",
          "WV"
         ],
         "xaxis": "x7",
         "y": [
          3,
          1,
          2,
          21,
          1,
          3,
          4,
          1,
          5,
          2,
          1,
          2,
          4,
          1,
          1
         ],
         "yaxis": "y7"
        },
        {
         "type": "scatter",
         "x": [
          "Coahuila",
          "GA",
          "IA",
          "KS",
          "MN",
          "MO",
          "NE",
          "NY",
          "OK",
          "PA",
          "Quebec",
          "VA",
          "VT"
         ],
         "xaxis": "x8",
         "y": [
          1,
          1,
          6,
          8,
          4,
          1,
          1,
          7,
          2,
          1,
          1,
          1,
          2
         ],
         "yaxis": "y8"
        }
       ],
       "layout": {
        "annotations": [
         {
          "font": {
           "size": 16
          },
          "showarrow": false,
          "text": "2001 Season",
          "x": 0.225,
          "xanchor": "center",
          "xref": "paper",
          "y": 1,
          "yanchor": "bottom",
          "yref": "paper"
         },
         {
          "font": {
           "size": 16
          },
          "showarrow": false,
          "text": "2000 Season",
          "x": 0.775,
          "xanchor": "center",
          "xref": "paper",
          "y": 1,
          "yanchor": "bottom",
          "yref": "paper"
         },
         {
          "font": {
           "size": 16
          },
          "showarrow": false,
          "text": "1999 Season",
          "x": 0.225,
          "xanchor": "center",
          "xref": "paper",
          "y": 0.71875,
          "yanchor": "bottom",
          "yref": "paper"
         },
         {
          "font": {
           "size": 16
          },
          "showarrow": false,
          "text": "1998 Season",
          "x": 0.775,
          "xanchor": "center",
          "xref": "paper",
          "y": 0.71875,
          "yanchor": "bottom",
          "yref": "paper"
         },
         {
          "font": {
           "size": 16
          },
          "showarrow": false,
          "text": "1997 Season",
          "x": 0.225,
          "xanchor": "center",
          "xref": "paper",
          "y": 0.4375,
          "yanchor": "bottom",
          "yref": "paper"
         },
         {
          "font": {
           "size": 16
          },
          "showarrow": false,
          "text": "1996 Season",
          "x": 0.775,
          "xanchor": "center",
          "xref": "paper",
          "y": 0.4375,
          "yanchor": "bottom",
          "yref": "paper"
         },
         {
          "font": {
           "size": 16
          },
          "showarrow": false,
          "text": "1995 Season",
          "x": 0.225,
          "xanchor": "center",
          "xref": "paper",
          "y": 0.15625,
          "yanchor": "bottom",
          "yref": "paper"
         },
         {
          "font": {
           "size": 16
          },
          "showarrow": false,
          "text": "1994 Season",
          "x": 0.775,
          "xanchor": "center",
          "xref": "paper",
          "y": 0.15625,
          "yanchor": "bottom",
          "yref": "paper"
         }
        ],
        "height": 1050,
        "showlegend": false,
        "template": {
         "data": {
          "bar": [
           {
            "error_x": {
             "color": "#2a3f5f"
            },
            "error_y": {
             "color": "#2a3f5f"
            },
            "marker": {
             "line": {
              "color": "#E5ECF6",
              "width": 0.5
             }
            },
            "type": "bar"
           }
          ],
          "barpolar": [
           {
            "marker": {
             "line": {
              "color": "#E5ECF6",
              "width": 0.5
             }
            },
            "type": "barpolar"
           }
          ],
          "carpet": [
           {
            "aaxis": {
             "endlinecolor": "#2a3f5f",
             "gridcolor": "white",
             "linecolor": "white",
             "minorgridcolor": "white",
             "startlinecolor": "#2a3f5f"
            },
            "baxis": {
             "endlinecolor": "#2a3f5f",
             "gridcolor": "white",
             "linecolor": "white",
             "minorgridcolor": "white",
             "startlinecolor": "#2a3f5f"
            },
            "type": "carpet"
           }
          ],
          "choropleth": [
           {
            "colorbar": {
             "outlinewidth": 0,
             "ticks": ""
            },
            "type": "choropleth"
           }
          ],
          "contour": [
           {
            "colorbar": {
             "outlinewidth": 0,
             "ticks": ""
            },
            "colorscale": [
             [
              0,
              "#0d0887"
             ],
             [
              0.1111111111111111,
              "#46039f"
             ],
             [
              0.2222222222222222,
              "#7201a8"
             ],
             [
              0.3333333333333333,
              "#9c179e"
             ],
             [
              0.4444444444444444,
              "#bd3786"
             ],
             [
              0.5555555555555556,
              "#d8576b"
             ],
             [
              0.6666666666666666,
              "#ed7953"
             ],
             [
              0.7777777777777778,
              "#fb9f3a"
             ],
             [
              0.8888888888888888,
              "#fdca26"
             ],
             [
              1,
              "#f0f921"
             ]
            ],
            "type": "contour"
           }
          ],
          "contourcarpet": [
           {
            "colorbar": {
             "outlinewidth": 0,
             "ticks": ""
            },
            "type": "contourcarpet"
           }
          ],
          "heatmap": [
           {
            "colorbar": {
             "outlinewidth": 0,
             "ticks": ""
            },
            "colorscale": [
             [
              0,
              "#0d0887"
             ],
             [
              0.1111111111111111,
              "#46039f"
             ],
             [
              0.2222222222222222,
              "#7201a8"
             ],
             [
              0.3333333333333333,
              "#9c179e"
             ],
             [
              0.4444444444444444,
              "#bd3786"
             ],
             [
              0.5555555555555556,
              "#d8576b"
             ],
             [
              0.6666666666666666,
              "#ed7953"
             ],
             [
              0.7777777777777778,
              "#fb9f3a"
             ],
             [
              0.8888888888888888,
              "#fdca26"
             ],
             [
              1,
              "#f0f921"
             ]
            ],
            "type": "heatmap"
           }
          ],
          "heatmapgl": [
           {
            "colorbar": {
             "outlinewidth": 0,
             "ticks": ""
            },
            "colorscale": [
             [
              0,
              "#0d0887"
             ],
             [
              0.1111111111111111,
              "#46039f"
             ],
             [
              0.2222222222222222,
              "#7201a8"
             ],
             [
              0.3333333333333333,
              "#9c179e"
             ],
             [
              0.4444444444444444,
              "#bd3786"
             ],
             [
              0.5555555555555556,
              "#d8576b"
             ],
             [
              0.6666666666666666,
              "#ed7953"
             ],
             [
              0.7777777777777778,
              "#fb9f3a"
             ],
             [
              0.8888888888888888,
              "#fdca26"
             ],
             [
              1,
              "#f0f921"
             ]
            ],
            "type": "heatmapgl"
           }
          ],
          "histogram": [
           {
            "marker": {
             "colorbar": {
              "outlinewidth": 0,
              "ticks": ""
             }
            },
            "type": "histogram"
           }
          ],
          "histogram2d": [
           {
            "colorbar": {
             "outlinewidth": 0,
             "ticks": ""
            },
            "colorscale": [
             [
              0,
              "#0d0887"
             ],
             [
              0.1111111111111111,
              "#46039f"
             ],
             [
              0.2222222222222222,
              "#7201a8"
             ],
             [
              0.3333333333333333,
              "#9c179e"
             ],
             [
              0.4444444444444444,
              "#bd3786"
             ],
             [
              0.5555555555555556,
              "#d8576b"
             ],
             [
              0.6666666666666666,
              "#ed7953"
             ],
             [
              0.7777777777777778,
              "#fb9f3a"
             ],
             [
              0.8888888888888888,
              "#fdca26"
             ],
             [
              1,
              "#f0f921"
             ]
            ],
            "type": "histogram2d"
           }
          ],
          "histogram2dcontour": [
           {
            "colorbar": {
             "outlinewidth": 0,
             "ticks": ""
            },
            "colorscale": [
             [
              0,
              "#0d0887"
             ],
             [
              0.1111111111111111,
              "#46039f"
             ],
             [
              0.2222222222222222,
              "#7201a8"
             ],
             [
              0.3333333333333333,
              "#9c179e"
             ],
             [
              0.4444444444444444,
              "#bd3786"
             ],
             [
              0.5555555555555556,
              "#d8576b"
             ],
             [
              0.6666666666666666,
              "#ed7953"
             ],
             [
              0.7777777777777778,
              "#fb9f3a"
             ],
             [
              0.8888888888888888,
              "#fdca26"
             ],
             [
              1,
              "#f0f921"
             ]
            ],
            "type": "histogram2dcontour"
           }
          ],
          "mesh3d": [
           {
            "colorbar": {
             "outlinewidth": 0,
             "ticks": ""
            },
            "type": "mesh3d"
           }
          ],
          "parcoords": [
           {
            "line": {
             "colorbar": {
              "outlinewidth": 0,
              "ticks": ""
             }
            },
            "type": "parcoords"
           }
          ],
          "pie": [
           {
            "automargin": true,
            "type": "pie"
           }
          ],
          "scatter": [
           {
            "marker": {
             "colorbar": {
              "outlinewidth": 0,
              "ticks": ""
             }
            },
            "type": "scatter"
           }
          ],
          "scatter3d": [
           {
            "line": {
             "colorbar": {
              "outlinewidth": 0,
              "ticks": ""
             }
            },
            "marker": {
             "colorbar": {
              "outlinewidth": 0,
              "ticks": ""
             }
            },
            "type": "scatter3d"
           }
          ],
          "scattercarpet": [
           {
            "marker": {
             "colorbar": {
              "outlinewidth": 0,
              "ticks": ""
             }
            },
            "type": "scattercarpet"
           }
          ],
          "scattergeo": [
           {
            "marker": {
             "colorbar": {
              "outlinewidth": 0,
              "ticks": ""
             }
            },
            "type": "scattergeo"
           }
          ],
          "scattergl": [
           {
            "marker": {
             "colorbar": {
              "outlinewidth": 0,
              "ticks": ""
             }
            },
            "type": "scattergl"
           }
          ],
          "scattermapbox": [
           {
            "marker": {
             "colorbar": {
              "outlinewidth": 0,
              "ticks": ""
             }
            },
            "type": "scattermapbox"
           }
          ],
          "scatterpolar": [
           {
            "marker": {
             "colorbar": {
              "outlinewidth": 0,
              "ticks": ""
             }
            },
            "type": "scatterpolar"
           }
          ],
          "scatterpolargl": [
           {
            "marker": {
             "colorbar": {
              "outlinewidth": 0,
              "ticks": ""
             }
            },
            "type": "scatterpolargl"
           }
          ],
          "scatterternary": [
           {
            "marker": {
             "colorbar": {
              "outlinewidth": 0,
              "ticks": ""
             }
            },
            "type": "scatterternary"
           }
          ],
          "surface": [
           {
            "colorbar": {
             "outlinewidth": 0,
             "ticks": ""
            },
            "colorscale": [
             [
              0,
              "#0d0887"
             ],
             [
              0.1111111111111111,
              "#46039f"
             ],
             [
              0.2222222222222222,
              "#7201a8"
             ],
             [
              0.3333333333333333,
              "#9c179e"
             ],
             [
              0.4444444444444444,
              "#bd3786"
             ],
             [
              0.5555555555555556,
              "#d8576b"
             ],
             [
              0.6666666666666666,
              "#ed7953"
             ],
             [
              0.7777777777777778,
              "#fb9f3a"
             ],
             [
              0.8888888888888888,
              "#fdca26"
             ],
             [
              1,
              "#f0f921"
             ]
            ],
            "type": "surface"
           }
          ],
          "table": [
           {
            "cells": {
             "fill": {
              "color": "#EBF0F8"
             },
             "line": {
              "color": "white"
             }
            },
            "header": {
             "fill": {
              "color": "#C8D4E3"
             },
             "line": {
              "color": "white"
             }
            },
            "type": "table"
           }
          ]
         },
         "layout": {
          "annotationdefaults": {
           "arrowcolor": "#2a3f5f",
           "arrowhead": 0,
           "arrowwidth": 1
          },
          "coloraxis": {
           "colorbar": {
            "outlinewidth": 0,
            "ticks": ""
           }
          },
          "colorscale": {
           "diverging": [
            [
             0,
             "#8e0152"
            ],
            [
             0.1,
             "#c51b7d"
            ],
            [
             0.2,
             "#de77ae"
            ],
            [
             0.3,
             "#f1b6da"
            ],
            [
             0.4,
             "#fde0ef"
            ],
            [
             0.5,
             "#f7f7f7"
            ],
            [
             0.6,
             "#e6f5d0"
            ],
            [
             0.7,
             "#b8e186"
            ],
            [
             0.8,
             "#7fbc41"
            ],
            [
             0.9,
             "#4d9221"
            ],
            [
             1,
             "#276419"
            ]
           ],
           "sequential": [
            [
             0,
             "#0d0887"
            ],
            [
             0.1111111111111111,
             "#46039f"
            ],
            [
             0.2222222222222222,
             "#7201a8"
            ],
            [
             0.3333333333333333,
             "#9c179e"
            ],
            [
             0.4444444444444444,
             "#bd3786"
            ],
            [
             0.5555555555555556,
             "#d8576b"
            ],
            [
             0.6666666666666666,
             "#ed7953"
            ],
            [
             0.7777777777777778,
             "#fb9f3a"
            ],
            [
             0.8888888888888888,
             "#fdca26"
            ],
            [
             1,
             "#f0f921"
            ]
           ],
           "sequentialminus": [
            [
             0,
             "#0d0887"
            ],
            [
             0.1111111111111111,
             "#46039f"
            ],
            [
             0.2222222222222222,
             "#7201a8"
            ],
            [
             0.3333333333333333,
             "#9c179e"
            ],
            [
             0.4444444444444444,
             "#bd3786"
            ],
            [
             0.5555555555555556,
             "#d8576b"
            ],
            [
             0.6666666666666666,
             "#ed7953"
            ],
            [
             0.7777777777777778,
             "#fb9f3a"
            ],
            [
             0.8888888888888888,
             "#fdca26"
            ],
            [
             1,
             "#f0f921"
            ]
           ]
          },
          "colorway": [
           "#636efa",
           "#EF553B",
           "#00cc96",
           "#ab63fa",
           "#FFA15A",
           "#19d3f3",
           "#FF6692",
           "#B6E880",
           "#FF97FF",
           "#FECB52"
          ],
          "font": {
           "color": "#2a3f5f"
          },
          "geo": {
           "bgcolor": "white",
           "lakecolor": "white",
           "landcolor": "#E5ECF6",
           "showlakes": true,
           "showland": true,
           "subunitcolor": "white"
          },
          "hoverlabel": {
           "align": "left"
          },
          "hovermode": "closest",
          "mapbox": {
           "style": "light"
          },
          "paper_bgcolor": "white",
          "plot_bgcolor": "#E5ECF6",
          "polar": {
           "angularaxis": {
            "gridcolor": "white",
            "linecolor": "white",
            "ticks": ""
           },
           "bgcolor": "#E5ECF6",
           "radialaxis": {
            "gridcolor": "white",
            "linecolor": "white",
            "ticks": ""
           }
          },
          "scene": {
           "xaxis": {
            "backgroundcolor": "#E5ECF6",
            "gridcolor": "white",
            "gridwidth": 2,
            "linecolor": "white",
            "showbackground": true,
            "ticks": "",
            "zerolinecolor": "white"
           },
           "yaxis": {
            "backgroundcolor": "#E5ECF6",
            "gridcolor": "white",
            "gridwidth": 2,
            "linecolor": "white",
            "showbackground": true,
            "ticks": "",
            "zerolinecolor": "white"
           },
           "zaxis": {
            "backgroundcolor": "#E5ECF6",
            "gridcolor": "white",
            "gridwidth": 2,
            "linecolor": "white",
            "showbackground": true,
            "ticks": "",
            "zerolinecolor": "white"
           }
          },
          "shapedefaults": {
           "line": {
            "color": "#2a3f5f"
           }
          },
          "ternary": {
           "aaxis": {
            "gridcolor": "white",
            "linecolor": "white",
            "ticks": ""
           },
           "baxis": {
            "gridcolor": "white",
            "linecolor": "white",
            "ticks": ""
           },
           "bgcolor": "#E5ECF6",
           "caxis": {
            "gridcolor": "white",
            "linecolor": "white",
            "ticks": ""
           }
          },
          "title": {
           "x": 0.05
          },
          "xaxis": {
           "automargin": true,
           "gridcolor": "white",
           "linecolor": "white",
           "ticks": "",
           "title": {
            "standoff": 15
           },
           "zerolinecolor": "white",
           "zerolinewidth": 2
          },
          "yaxis": {
           "automargin": true,
           "gridcolor": "white",
           "linecolor": "white",
           "ticks": "",
           "title": {
            "standoff": 15
           },
           "zerolinecolor": "white",
           "zerolinewidth": 2
          }
         }
        },
        "title": {
         "text": "Monarch Butterflies Recovered Each Season",
         "x": 0.5
        },
        "width": 900,
        "xaxis": {
         "anchor": "y",
         "domain": [
          0,
          0.45
         ]
        },
        "xaxis2": {
         "anchor": "y2",
         "domain": [
          0.55,
          1
         ]
        },
        "xaxis3": {
         "anchor": "y3",
         "domain": [
          0,
          0.45
         ]
        },
        "xaxis4": {
         "anchor": "y4",
         "domain": [
          0.55,
          1
         ]
        },
        "xaxis5": {
         "anchor": "y5",
         "domain": [
          0,
          0.45
         ]
        },
        "xaxis6": {
         "anchor": "y6",
         "domain": [
          0.55,
          1
         ]
        },
        "xaxis7": {
         "anchor": "y7",
         "domain": [
          0,
          0.45
         ]
        },
        "xaxis8": {
         "anchor": "y8",
         "domain": [
          0.55,
          1
         ]
        },
        "yaxis": {
         "anchor": "x",
         "domain": [
          0.84375,
          1
         ]
        },
        "yaxis2": {
         "anchor": "x2",
         "domain": [
          0.84375,
          1
         ]
        },
        "yaxis3": {
         "anchor": "x3",
         "domain": [
          0.5625,
          0.71875
         ]
        },
        "yaxis4": {
         "anchor": "x4",
         "domain": [
          0.5625,
          0.71875
         ]
        },
        "yaxis5": {
         "anchor": "x5",
         "domain": [
          0.28125,
          0.4375
         ]
        },
        "yaxis6": {
         "anchor": "x6",
         "domain": [
          0.28125,
          0.4375
         ]
        },
        "yaxis7": {
         "anchor": "x7",
         "domain": [
          0,
          0.15625
         ]
        },
        "yaxis8": {
         "anchor": "x8",
         "domain": [
          0,
          0.15625
         ]
        }
       }
      },
      "text/html": [
       "<div>\n",
       "        \n",
       "        \n",
       "            <div id=\"db0d4a29-a851-438e-9500-451bf64a06ab\" class=\"plotly-graph-div\" style=\"height:1050px; width:900px;\"></div>\n",
       "            <script type=\"text/javascript\">\n",
       "                require([\"plotly\"], function(Plotly) {\n",
       "                    window.PLOTLYENV=window.PLOTLYENV || {};\n",
       "                    \n",
       "                if (document.getElementById(\"db0d4a29-a851-438e-9500-451bf64a06ab\")) {\n",
       "                    Plotly.newPlot(\n",
       "                        'db0d4a29-a851-438e-9500-451bf64a06ab',\n",
       "                        [{\"type\": \"scatter\", \"x\": [\"Unknown\", \"AR\", \"CT\", \"Coahuila\", \"DC\", \"FL\", \"GA\", \"IA\", \"IL\", \"IN\", \"KS\", \"KY\", \"MA\", \"MD\", \"ME\", \"MI\", \"MN\", \"MO\", \"NC\", \"ND\", \"NE\", \"NH\", \"NJ\", \"NY\", \"Nuevo Leon\", \"OH\", \"OK\", \"Ontario\", \"PA\", \"Quebec\", \"SC\", \"SD\", \"TN\", \"TX\", \"VA\", \"VT\", \"WI\", \"WV\", \"WY\"], \"xaxis\": \"x\", \"y\": [95, 8, 19, 2, 1, 5, 2, 360, 63, 32, 300, 9, 3, 8, 1, 29, 284, 20, 7, 9, 63, 1, 13, 14, 7, 61, 115, 33, 22, 1, 3, 78, 1, 243, 17, 1, 23, 6, 3], \"yaxis\": \"y\"}, {\"type\": \"scatter\", \"x\": [\"Unknown\", \"AR\", \"CT\", \"FL\", \"IA\", \"IL\", \"IN\", \"KS\", \"KY\", \"MA\", \"ME\", \"MI\", \"MN\", \"MO\", \"NC\", \"NE\", \"NJ\", \"Nuevo Leon\", \"OH\", \"OK\", \"Ontario\", \"PA\", \"Quebec\", \"SC\", \"SD\", \"TX\", \"VA\", \"VT\", \"WI\", \"WV\"], \"xaxis\": \"x2\", \"y\": [3, 5, 11, 1, 48, 6, 1, 68, 1, 1, 1, 6, 31, 6, 1, 17, 3, 2, 6, 7, 3, 2, 3, 1, 23, 24, 4, 1, 5, 4], \"yaxis\": \"y2\"}, {\"type\": \"scatter\", \"x\": [\"Unknown\", \"AR\", \"CO\", \"CT\", \"FL\", \"IA\", \"IL\", \"IN\", \"KS\", \"KY\", \"MA\", \"MD\", \"ME\", \"MI\", \"MN\", \"MO\", \"MS\", \"MX\", \"NC\", \"ND\", \"NE\", \"NH\", \"NJ\", \"NY\", \"OH\", \"OK\", \"Ontario\", \"PA\", \"Quebec\", \"SC\", \"SD\", \"TX\", \"VA\", \"VT\", \"WI\", \"WV\"], \"xaxis\": \"x3\", \"y\": [5, 16, 3, 6, 2, 107, 25, 19, 140, 3, 7, 4, 2, 19, 107, 9, 2, 14, 5, 4, 18, 1, 5, 16, 11, 20, 17, 18, 3, 2, 23, 78, 8, 2, 26, 4], \"yaxis\": \"y3\"}, {\"type\": \"scatter\", \"x\": [\"Unknown\", \"AR\", \"CT\", \"Coahuila\", \"FL\", \"IA\", \"IL\", \"IN\", \"KS\", \"KY\", \"MA\", \"MD\", \"ME\", \"MI\", \"MN\", \"MO\", \"NE\", \"NJ\", \"NY\", \"Nuevo Leon\", \"OH\", \"OK\", \"Ontario\", \"PA\", \"SD\", \"TN\", \"TX\", \"VA\", \"WI\", \"WV\"], \"xaxis\": \"x4\", \"y\": [63, 2, 7, 4, 1, 36, 3, 2, 177, 1, 1, 2, 1, 1, 32, 6, 17, 4, 2, 1, 7, 32, 3, 5, 9, 1, 29, 3, 5, 2], \"yaxis\": \"y4\"}, {\"type\": \"scatter\", \"x\": [\"AR\", \"CO\", \"CT\", \"IA\", \"KS\", \"LA\", \"MA\", \"MD\", \"ME\", \"MI\", \"MN\", \"MO\", \"ND\", \"NE\", \"NH\", \"NY\", \"OH\", \"OK\", \"PA\", \"SC\", \"TX\", \"WI\", \"WV\"], \"xaxis\": \"x5\", \"y\": [1, 1, 2, 10, 27, 1, 1, 1, 1, 2, 11, 4, 1, 3, 1, 3, 5, 6, 10, 2, 5, 4, 1], \"yaxis\": \"y5\"}, {\"type\": \"scatter\", \"x\": [\"Unknown\", \"IA\", \"IL\", \"KS\", \"LA\", \"ME\", \"MI\", \"MN\", \"MO\", \"NH\", \"NY\", \"OK\", \"Ontario\", \"SC\", \"TX\", \"VA\", \"VT\", \"WV\"], \"xaxis\": \"x6\", \"y\": [1, 4, 3, 35, 2, 1, 1, 6, 1, 1, 4, 3, 2, 1, 5, 2, 1, 2], \"yaxis\": \"y6\"}, {\"type\": \"scatter\", \"x\": [\"Unknown\", \"AR\", \"IA\", \"KS\", \"MA\", \"MD\", \"MN\", \"NH\", \"NJ\", \"NY\", \"OH\", \"PA\", \"TX\", \"WI\", \"WV\"], \"xaxis\": \"x7\", \"y\": [3, 1, 2, 21, 1, 3, 4, 1, 5, 2, 1, 2, 4, 1, 1], \"yaxis\": \"y7\"}, {\"type\": \"scatter\", \"x\": [\"Coahuila\", \"GA\", \"IA\", \"KS\", \"MN\", \"MO\", \"NE\", \"NY\", \"OK\", \"PA\", \"Quebec\", \"VA\", \"VT\"], \"xaxis\": \"x8\", \"y\": [1, 1, 6, 8, 4, 1, 1, 7, 2, 1, 1, 1, 2], \"yaxis\": \"y8\"}],\n",
       "                        {\"annotations\": [{\"font\": {\"size\": 16}, \"showarrow\": false, \"text\": \"2001 Season\", \"x\": 0.225, \"xanchor\": \"center\", \"xref\": \"paper\", \"y\": 1.0, \"yanchor\": \"bottom\", \"yref\": \"paper\"}, {\"font\": {\"size\": 16}, \"showarrow\": false, \"text\": \"2000 Season\", \"x\": 0.775, \"xanchor\": \"center\", \"xref\": \"paper\", \"y\": 1.0, \"yanchor\": \"bottom\", \"yref\": \"paper\"}, {\"font\": {\"size\": 16}, \"showarrow\": false, \"text\": \"1999 Season\", \"x\": 0.225, \"xanchor\": \"center\", \"xref\": \"paper\", \"y\": 0.71875, \"yanchor\": \"bottom\", \"yref\": \"paper\"}, {\"font\": {\"size\": 16}, \"showarrow\": false, \"text\": \"1998 Season\", \"x\": 0.775, \"xanchor\": \"center\", \"xref\": \"paper\", \"y\": 0.71875, \"yanchor\": \"bottom\", \"yref\": \"paper\"}, {\"font\": {\"size\": 16}, \"showarrow\": false, \"text\": \"1997 Season\", \"x\": 0.225, \"xanchor\": \"center\", \"xref\": \"paper\", \"y\": 0.4375, \"yanchor\": \"bottom\", \"yref\": \"paper\"}, {\"font\": {\"size\": 16}, \"showarrow\": false, \"text\": \"1996 Season\", \"x\": 0.775, \"xanchor\": \"center\", \"xref\": \"paper\", \"y\": 0.4375, \"yanchor\": \"bottom\", \"yref\": \"paper\"}, {\"font\": {\"size\": 16}, \"showarrow\": false, \"text\": \"1995 Season\", \"x\": 0.225, \"xanchor\": \"center\", \"xref\": \"paper\", \"y\": 0.15625, \"yanchor\": \"bottom\", \"yref\": \"paper\"}, {\"font\": {\"size\": 16}, \"showarrow\": false, \"text\": \"1994 Season\", \"x\": 0.775, \"xanchor\": \"center\", \"xref\": \"paper\", \"y\": 0.15625, \"yanchor\": \"bottom\", \"yref\": \"paper\"}], \"height\": 1050, \"showlegend\": false, \"template\": {\"data\": {\"bar\": [{\"error_x\": {\"color\": \"#2a3f5f\"}, \"error_y\": {\"color\": \"#2a3f5f\"}, \"marker\": {\"line\": {\"color\": \"#E5ECF6\", \"width\": 0.5}}, \"type\": \"bar\"}], \"barpolar\": [{\"marker\": {\"line\": {\"color\": \"#E5ECF6\", \"width\": 0.5}}, \"type\": \"barpolar\"}], \"carpet\": [{\"aaxis\": {\"endlinecolor\": \"#2a3f5f\", \"gridcolor\": \"white\", \"linecolor\": \"white\", \"minorgridcolor\": \"white\", \"startlinecolor\": \"#2a3f5f\"}, \"baxis\": {\"endlinecolor\": \"#2a3f5f\", \"gridcolor\": \"white\", \"linecolor\": \"white\", \"minorgridcolor\": \"white\", \"startlinecolor\": \"#2a3f5f\"}, \"type\": \"carpet\"}], \"choropleth\": [{\"colorbar\": {\"outlinewidth\": 0, \"ticks\": \"\"}, \"type\": \"choropleth\"}], \"contour\": [{\"colorbar\": {\"outlinewidth\": 0, \"ticks\": \"\"}, \"colorscale\": [[0.0, \"#0d0887\"], [0.1111111111111111, \"#46039f\"], [0.2222222222222222, \"#7201a8\"], [0.3333333333333333, \"#9c179e\"], [0.4444444444444444, \"#bd3786\"], [0.5555555555555556, \"#d8576b\"], [0.6666666666666666, \"#ed7953\"], [0.7777777777777778, \"#fb9f3a\"], [0.8888888888888888, \"#fdca26\"], [1.0, \"#f0f921\"]], \"type\": \"contour\"}], \"contourcarpet\": [{\"colorbar\": {\"outlinewidth\": 0, \"ticks\": \"\"}, \"type\": \"contourcarpet\"}], \"heatmap\": [{\"colorbar\": {\"outlinewidth\": 0, \"ticks\": \"\"}, \"colorscale\": [[0.0, \"#0d0887\"], [0.1111111111111111, \"#46039f\"], [0.2222222222222222, \"#7201a8\"], [0.3333333333333333, \"#9c179e\"], [0.4444444444444444, \"#bd3786\"], [0.5555555555555556, \"#d8576b\"], [0.6666666666666666, \"#ed7953\"], [0.7777777777777778, \"#fb9f3a\"], [0.8888888888888888, \"#fdca26\"], [1.0, \"#f0f921\"]], \"type\": \"heatmap\"}], \"heatmapgl\": [{\"colorbar\": {\"outlinewidth\": 0, \"ticks\": \"\"}, \"colorscale\": [[0.0, \"#0d0887\"], [0.1111111111111111, \"#46039f\"], [0.2222222222222222, \"#7201a8\"], [0.3333333333333333, \"#9c179e\"], [0.4444444444444444, \"#bd3786\"], [0.5555555555555556, \"#d8576b\"], [0.6666666666666666, \"#ed7953\"], [0.7777777777777778, \"#fb9f3a\"], [0.8888888888888888, \"#fdca26\"], [1.0, \"#f0f921\"]], \"type\": \"heatmapgl\"}], \"histogram\": [{\"marker\": {\"colorbar\": {\"outlinewidth\": 0, \"ticks\": \"\"}}, \"type\": \"histogram\"}], \"histogram2d\": [{\"colorbar\": {\"outlinewidth\": 0, \"ticks\": \"\"}, \"colorscale\": [[0.0, \"#0d0887\"], [0.1111111111111111, \"#46039f\"], [0.2222222222222222, \"#7201a8\"], [0.3333333333333333, \"#9c179e\"], [0.4444444444444444, \"#bd3786\"], [0.5555555555555556, \"#d8576b\"], [0.6666666666666666, \"#ed7953\"], [0.7777777777777778, \"#fb9f3a\"], [0.8888888888888888, \"#fdca26\"], [1.0, \"#f0f921\"]], \"type\": \"histogram2d\"}], \"histogram2dcontour\": [{\"colorbar\": {\"outlinewidth\": 0, \"ticks\": \"\"}, \"colorscale\": [[0.0, \"#0d0887\"], [0.1111111111111111, \"#46039f\"], [0.2222222222222222, \"#7201a8\"], [0.3333333333333333, \"#9c179e\"], [0.4444444444444444, \"#bd3786\"], [0.5555555555555556, \"#d8576b\"], [0.6666666666666666, \"#ed7953\"], [0.7777777777777778, \"#fb9f3a\"], [0.8888888888888888, \"#fdca26\"], [1.0, \"#f0f921\"]], \"type\": \"histogram2dcontour\"}], \"mesh3d\": [{\"colorbar\": {\"outlinewidth\": 0, \"ticks\": \"\"}, \"type\": \"mesh3d\"}], \"parcoords\": [{\"line\": {\"colorbar\": {\"outlinewidth\": 0, \"ticks\": \"\"}}, \"type\": \"parcoords\"}], \"pie\": [{\"automargin\": true, \"type\": \"pie\"}], \"scatter\": [{\"marker\": {\"colorbar\": {\"outlinewidth\": 0, \"ticks\": \"\"}}, \"type\": \"scatter\"}], \"scatter3d\": [{\"line\": {\"colorbar\": {\"outlinewidth\": 0, \"ticks\": \"\"}}, \"marker\": {\"colorbar\": {\"outlinewidth\": 0, \"ticks\": \"\"}}, \"type\": \"scatter3d\"}], \"scattercarpet\": [{\"marker\": {\"colorbar\": {\"outlinewidth\": 0, \"ticks\": \"\"}}, \"type\": \"scattercarpet\"}], \"scattergeo\": [{\"marker\": {\"colorbar\": {\"outlinewidth\": 0, \"ticks\": \"\"}}, \"type\": \"scattergeo\"}], \"scattergl\": [{\"marker\": {\"colorbar\": {\"outlinewidth\": 0, \"ticks\": \"\"}}, \"type\": \"scattergl\"}], \"scattermapbox\": [{\"marker\": {\"colorbar\": {\"outlinewidth\": 0, \"ticks\": \"\"}}, \"type\": \"scattermapbox\"}], \"scatterpolar\": [{\"marker\": {\"colorbar\": {\"outlinewidth\": 0, \"ticks\": \"\"}}, \"type\": \"scatterpolar\"}], \"scatterpolargl\": [{\"marker\": {\"colorbar\": {\"outlinewidth\": 0, \"ticks\": \"\"}}, \"type\": \"scatterpolargl\"}], \"scatterternary\": [{\"marker\": {\"colorbar\": {\"outlinewidth\": 0, \"ticks\": \"\"}}, \"type\": \"scatterternary\"}], \"surface\": [{\"colorbar\": {\"outlinewidth\": 0, \"ticks\": \"\"}, \"colorscale\": [[0.0, \"#0d0887\"], [0.1111111111111111, \"#46039f\"], [0.2222222222222222, \"#7201a8\"], [0.3333333333333333, \"#9c179e\"], [0.4444444444444444, \"#bd3786\"], [0.5555555555555556, \"#d8576b\"], [0.6666666666666666, \"#ed7953\"], [0.7777777777777778, \"#fb9f3a\"], [0.8888888888888888, \"#fdca26\"], [1.0, \"#f0f921\"]], \"type\": \"surface\"}], \"table\": [{\"cells\": {\"fill\": {\"color\": \"#EBF0F8\"}, \"line\": {\"color\": \"white\"}}, \"header\": {\"fill\": {\"color\": \"#C8D4E3\"}, \"line\": {\"color\": \"white\"}}, \"type\": \"table\"}]}, \"layout\": {\"annotationdefaults\": {\"arrowcolor\": \"#2a3f5f\", \"arrowhead\": 0, \"arrowwidth\": 1}, \"coloraxis\": {\"colorbar\": {\"outlinewidth\": 0, \"ticks\": \"\"}}, \"colorscale\": {\"diverging\": [[0, \"#8e0152\"], [0.1, \"#c51b7d\"], [0.2, \"#de77ae\"], [0.3, \"#f1b6da\"], [0.4, \"#fde0ef\"], [0.5, \"#f7f7f7\"], [0.6, \"#e6f5d0\"], [0.7, \"#b8e186\"], [0.8, \"#7fbc41\"], [0.9, \"#4d9221\"], [1, \"#276419\"]], \"sequential\": [[0.0, \"#0d0887\"], [0.1111111111111111, \"#46039f\"], [0.2222222222222222, \"#7201a8\"], [0.3333333333333333, \"#9c179e\"], [0.4444444444444444, \"#bd3786\"], [0.5555555555555556, \"#d8576b\"], [0.6666666666666666, \"#ed7953\"], [0.7777777777777778, \"#fb9f3a\"], [0.8888888888888888, \"#fdca26\"], [1.0, \"#f0f921\"]], \"sequentialminus\": [[0.0, \"#0d0887\"], [0.1111111111111111, \"#46039f\"], [0.2222222222222222, \"#7201a8\"], [0.3333333333333333, \"#9c179e\"], [0.4444444444444444, \"#bd3786\"], [0.5555555555555556, \"#d8576b\"], [0.6666666666666666, \"#ed7953\"], [0.7777777777777778, \"#fb9f3a\"], [0.8888888888888888, \"#fdca26\"], [1.0, \"#f0f921\"]]}, \"colorway\": [\"#636efa\", \"#EF553B\", \"#00cc96\", \"#ab63fa\", \"#FFA15A\", \"#19d3f3\", \"#FF6692\", \"#B6E880\", \"#FF97FF\", \"#FECB52\"], \"font\": {\"color\": \"#2a3f5f\"}, \"geo\": {\"bgcolor\": \"white\", \"lakecolor\": \"white\", \"landcolor\": \"#E5ECF6\", \"showlakes\": true, \"showland\": true, \"subunitcolor\": \"white\"}, \"hoverlabel\": {\"align\": \"left\"}, \"hovermode\": \"closest\", \"mapbox\": {\"style\": \"light\"}, \"paper_bgcolor\": \"white\", \"plot_bgcolor\": \"#E5ECF6\", \"polar\": {\"angularaxis\": {\"gridcolor\": \"white\", \"linecolor\": \"white\", \"ticks\": \"\"}, \"bgcolor\": \"#E5ECF6\", \"radialaxis\": {\"gridcolor\": \"white\", \"linecolor\": \"white\", \"ticks\": \"\"}}, \"scene\": {\"xaxis\": {\"backgroundcolor\": \"#E5ECF6\", \"gridcolor\": \"white\", \"gridwidth\": 2, \"linecolor\": \"white\", \"showbackground\": true, \"ticks\": \"\", \"zerolinecolor\": \"white\"}, \"yaxis\": {\"backgroundcolor\": \"#E5ECF6\", \"gridcolor\": \"white\", \"gridwidth\": 2, \"linecolor\": \"white\", \"showbackground\": true, \"ticks\": \"\", \"zerolinecolor\": \"white\"}, \"zaxis\": {\"backgroundcolor\": \"#E5ECF6\", \"gridcolor\": \"white\", \"gridwidth\": 2, \"linecolor\": \"white\", \"showbackground\": true, \"ticks\": \"\", \"zerolinecolor\": \"white\"}}, \"shapedefaults\": {\"line\": {\"color\": \"#2a3f5f\"}}, \"ternary\": {\"aaxis\": {\"gridcolor\": \"white\", \"linecolor\": \"white\", \"ticks\": \"\"}, \"baxis\": {\"gridcolor\": \"white\", \"linecolor\": \"white\", \"ticks\": \"\"}, \"bgcolor\": \"#E5ECF6\", \"caxis\": {\"gridcolor\": \"white\", \"linecolor\": \"white\", \"ticks\": \"\"}}, \"title\": {\"x\": 0.05}, \"xaxis\": {\"automargin\": true, \"gridcolor\": \"white\", \"linecolor\": \"white\", \"ticks\": \"\", \"title\": {\"standoff\": 15}, \"zerolinecolor\": \"white\", \"zerolinewidth\": 2}, \"yaxis\": {\"automargin\": true, \"gridcolor\": \"white\", \"linecolor\": \"white\", \"ticks\": \"\", \"title\": {\"standoff\": 15}, \"zerolinecolor\": \"white\", \"zerolinewidth\": 2}}}, \"title\": {\"text\": \"Monarch Butterflies Recovered Each Season\", \"x\": 0.5}, \"width\": 900, \"xaxis\": {\"anchor\": \"y\", \"domain\": [0.0, 0.45]}, \"xaxis2\": {\"anchor\": \"y2\", \"domain\": [0.55, 1.0]}, \"xaxis3\": {\"anchor\": \"y3\", \"domain\": [0.0, 0.45]}, \"xaxis4\": {\"anchor\": \"y4\", \"domain\": [0.55, 1.0]}, \"xaxis5\": {\"anchor\": \"y5\", \"domain\": [0.0, 0.45]}, \"xaxis6\": {\"anchor\": \"y6\", \"domain\": [0.55, 1.0]}, \"xaxis7\": {\"anchor\": \"y7\", \"domain\": [0.0, 0.45]}, \"xaxis8\": {\"anchor\": \"y8\", \"domain\": [0.55, 1.0]}, \"yaxis\": {\"anchor\": \"x\", \"domain\": [0.84375, 1.0]}, \"yaxis2\": {\"anchor\": \"x2\", \"domain\": [0.84375, 1.0]}, \"yaxis3\": {\"anchor\": \"x3\", \"domain\": [0.5625, 0.71875]}, \"yaxis4\": {\"anchor\": \"x4\", \"domain\": [0.5625, 0.71875]}, \"yaxis5\": {\"anchor\": \"x5\", \"domain\": [0.28125, 0.4375]}, \"yaxis6\": {\"anchor\": \"x6\", \"domain\": [0.28125, 0.4375]}, \"yaxis7\": {\"anchor\": \"x7\", \"domain\": [0.0, 0.15625]}, \"yaxis8\": {\"anchor\": \"x8\", \"domain\": [0.0, 0.15625]}},\n",
       "                        {\"responsive\": true}\n",
       "                    ).then(function(){\n",
       "                            \n",
       "var gd = document.getElementById('db0d4a29-a851-438e-9500-451bf64a06ab');\n",
       "var x = new MutationObserver(function (mutations, observer) {{\n",
       "        var display = window.getComputedStyle(gd).display;\n",
       "        if (!display || display === 'none') {{\n",
       "            console.log([gd, 'removed!']);\n",
       "            Plotly.purge(gd);\n",
       "            observer.disconnect();\n",
       "        }}\n",
       "}});\n",
       "\n",
       "// Listen for the removal of the full notebook cells\n",
       "var notebookContainer = gd.closest('#notebook-container');\n",
       "if (notebookContainer) {{\n",
       "    x.observe(notebookContainer, {childList: true});\n",
       "}}\n",
       "\n",
       "// Listen for the clearing of the current output cell\n",
       "var outputEl = gd.closest('.output');\n",
       "if (outputEl) {{\n",
       "    x.observe(outputEl, {childList: true});\n",
       "}}\n",
       "\n",
       "                        })\n",
       "                };\n",
       "                });\n",
       "            </script>\n",
       "        </div>"
      ]
     },
     "metadata": {},
     "output_type": "display_data"
    }
   ],
   "source": [
    "fig = make_subplots(rows=4, cols=2, subplot_titles=(\"2001 Season\", \"2000 Season\", \"1999 Season\", \"1998 Season\", \"1997 Season\", \"1996 Season\", \"1995 Season\", \"1994 Season\"))\n",
    "\n",
    "fig.add_trace(go.Scatter(x=monarchs2001_tally.tag_state, y=monarchs2001_tally.recovered_tags),\n",
    "              row=1, col=1)\n",
    "\n",
    "fig.add_trace(go.Scatter(x=monarchs2000_tally.tag_state, y=monarchs2000_tally.recovered_tags),\n",
    "              row=1, col=2)\n",
    "\n",
    "fig.add_trace(go.Scatter(x=monarchs1999_tally.tag_state, y=monarchs1999_tally.recovered_tags),\n",
    "              row=2, col=1)\n",
    "\n",
    "fig.add_trace(go.Scatter(x=monarchs1998_tally.tag_state, y=monarchs1998_tally.recovered_tags),\n",
    "              row=2, col=2)\n",
    "\n",
    "fig.add_trace(go.Scatter(x=monarchs1997_tally.tag_state, y=monarchs1997_tally.recovered_tags),\n",
    "              row=3, col=1)\n",
    "\n",
    "fig.add_trace(go.Scatter(x=monarchs1996_tally.tag_state, y=monarchs1996_tally.recovered_tags),\n",
    "              row=3, col=2)\n",
    "\n",
    "fig.add_trace(go.Scatter(x=monarchs1995_tally.tag_state, y=monarchs1995_tally.recovered_tags),\n",
    "              row=4, col=1)\n",
    "\n",
    "fig.add_trace(go.Scatter(x=monarchs1994_tally.tag_state, y=monarchs1994_tally.recovered_tags),\n",
    "              row=4, col=2)\n",
    "\n",
    "\n",
    "fig.update_layout(showlegend=False, height=1050, width =900, title_text=\"Monarch Butterflies Recovered Each Season\", title_x=0.5)\n",
    "\n",
    "fig.show()"
   ]
  },
  {
   "cell_type": "markdown",
   "metadata": {},
   "source": [
    "### Embed Power BI maps, showing Tag Origin and Report Locations, as well as travel.\n",
    "#### Page 1 shows Tag Origin Locations and Tag Report Locations. Page 2 shows travel for all seasons."
   ]
  },
  {
   "cell_type": "code",
   "execution_count": 20,
   "metadata": {},
   "outputs": [
    {
     "data": {
      "text/html": [
       "\n",
       "        <iframe\n",
       "            width=\"1000\"\n",
       "            height=\"600\"\n",
       "            src=\"https://app.powerbi.com/view?r=eyJrIjoiNDkwZDg0MmYtZGQ0ZS00OTRlLTk0ZTktZTk5OGIxY2JlNTUwIiwidCI6ImU5YmJjZDcxLWMxNWYtNGQxZi1iNzY2LTcwZTYzYWExMjFmNCIsImMiOjF9\"\n",
       "            frameborder=\"0\"\n",
       "            allowfullscreen\n",
       "        ></iframe>\n",
       "        "
      ],
      "text/plain": [
       "<IPython.lib.display.IFrame at 0x2050c789e48>"
      ]
     },
     "execution_count": 20,
     "metadata": {},
     "output_type": "execute_result"
    }
   ],
   "source": [
    "powerBiEmbed = 'https://app.powerbi.com/view?r=eyJrIjoiNDkwZDg0MmYtZGQ0ZS00OTRlLTk0ZTktZTk5OGIxY2JlNTUwIiwidCI6ImU5YmJjZDcxLWMxNWYtNGQxZi1iNzY2LTcwZTYzYWExMjFmNCIsImMiOjF9'\n",
    "IFrame(powerBiEmbed, width=1000, height=600)"
   ]
  },
  {
   "cell_type": "markdown",
   "metadata": {},
   "source": [
    "## Season summaries can be found at https://monarchwatch.org/read/seasum.htm includes articles on overwintering and the big freeze of 2002."
   ]
  },
  {
   "cell_type": "markdown",
   "metadata": {},
   "source": [
    "<table><tr><td><img src='IMG_8221.jpg' title=\"Male Monarch Butterfly\" alt=\"Holding 4 Monarch butterflies durring tag season\"></td><td><img src='IMG_8220.jpg' title=\"Female Monarch Butterfly\" alt=\"3 monarch butterflies during tag season on milkweed\"></td></tr></table>"
   ]
  },
  {
   "cell_type": "markdown",
   "metadata": {},
   "source": [
    "##### Monarch Butterflies (photos courtesy of Dr. Robert H. DeWitt)"
   ]
  }
 ],
 "metadata": {
  "kernelspec": {
   "display_name": "Python 3",
   "language": "python",
   "name": "python3"
  },
  "language_info": {
   "codemirror_mode": {
    "name": "ipython",
    "version": 3
   },
   "file_extension": ".py",
   "mimetype": "text/x-python",
   "name": "python",
   "nbconvert_exporter": "python",
   "pygments_lexer": "ipython3",
   "version": "3.7.4"
  }
 },
 "nbformat": 4,
 "nbformat_minor": 2
}
