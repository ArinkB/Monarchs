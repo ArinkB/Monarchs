{
 "cells": [
  {
   "cell_type": "markdown",
   "metadata": {},
   "source": [
    "# MONARCH MIGRATION 1994 - 2001"
   ]
  },
  {
   "cell_type": "code",
   "execution_count": 44,
   "metadata": {},
   "outputs": [],
   "source": [
    "import plotly as py\n",
    "import plotly.graph_objs as go\n",
    "import pandas as pd\n",
    "import sqlite3\n",
    "import os\n",
    "from IPython.display import IFrame\n",
    "from plotly.offline import download_plotlyjs, init_notebook_mode, plot, iplot"
   ]
  },
  {
   "cell_type": "code",
   "execution_count": 45,
   "metadata": {},
   "outputs": [],
   "source": [
    "db = sqlite3.connect(\"Monarchs.db\")"
   ]
  },
  {
   "cell_type": "markdown",
   "metadata": {},
   "source": [
    "### Read CSV for each year"
   ]
  },
  {
   "cell_type": "code",
   "execution_count": 46,
   "metadata": {},
   "outputs": [],
   "source": [
    "monarchs2001 = pd.read_pickle(\"Data\\Monarchs2001.pkl\")\n",
    "monarchs2000 = pd.read_pickle(\"Data\\Monarchs2000.pkl\")\n",
    "monarchs1999 = pd.read_pickle(\"Data\\Monarchs1999.pkl\")\n",
    "monarchs1998 = pd.read_pickle(\"Data\\Monarchs1998.pkl\")\n",
    "monarchs1997 = pd.read_pickle(\"Data\\Monarchs1997.pkl\")\n",
    "monarchs1996 = pd.read_pickle(\"Data\\Monarchs1996.pkl\")\n",
    "monarchs1995 = pd.read_pickle(\"Data\\Monarchs1995.pkl\")\n",
    "monarchs1994 = pd.read_pickle(\"Data\\Monarchs1994.pkl\")"
   ]
  },
  {
   "cell_type": "markdown",
   "metadata": {},
   "source": [
    "### Convert pandas to SQL table"
   ]
  },
  {
   "cell_type": "code",
   "execution_count": 47,
   "metadata": {},
   "outputs": [
    {
     "name": "stderr",
     "output_type": "stream",
     "text": [
      "C:\\Users\\Arink\\Anaconda3\\lib\\site-packages\\pandas\\core\\generic.py:2663: UserWarning:\n",
      "\n",
      "The spaces in these column names will not be changed. In pandas versions < 0.14, spaces were converted to underscores.\n",
      "\n"
     ]
    },
    {
     "data": {
      "text/plain": [
       "'C:\\\\Users\\\\Arink\\\\Desktop\\\\github\\\\CodeLou\\\\Monarchs'"
      ]
     },
     "execution_count": 47,
     "metadata": {},
     "output_type": "execute_result"
    }
   ],
   "source": [
    "monarchs2001.to_sql(\"Monarchs2001\", db, if_exists=\"replace\")\n",
    "monarchs2000.to_sql(\"monarchs2000\", db, if_exists=\"replace\")\n",
    "monarchs1999.to_sql(\"monarchs1999\", db, if_exists=\"replace\")\n",
    "monarchs1998.to_sql(\"monarchs1998\", db, if_exists=\"replace\")\n",
    "monarchs1997.to_sql(\"monarchs1997\", db, if_exists=\"replace\")\n",
    "monarchs1996.to_sql(\"monarchs1996\", db, if_exists=\"replace\")\n",
    "monarchs1995.to_sql(\"monarchs1995\", db, if_exists=\"replace\")\n",
    "monarchs1994.to_sql(\"monarchs1994\", db, if_exists=\"replace\")\n",
    "\n",
    "os.getcwd()"
   ]
  },
  {
   "cell_type": "markdown",
   "metadata": {},
   "source": [
    "### View Schema \n",
    "##### All CSVs have same columns (Previously cleaned in DATA folder)"
   ]
  },
  {
   "cell_type": "code",
   "execution_count": 48,
   "metadata": {},
   "outputs": [
    {
     "data": {
      "text/html": [
       "<div>\n",
       "<style scoped>\n",
       "    .dataframe tbody tr th:only-of-type {\n",
       "        vertical-align: middle;\n",
       "    }\n",
       "\n",
       "    .dataframe tbody tr th {\n",
       "        vertical-align: top;\n",
       "    }\n",
       "\n",
       "    .dataframe thead th {\n",
       "        text-align: right;\n",
       "    }\n",
       "</style>\n",
       "<table border=\"1\" class=\"dataframe\">\n",
       "  <thead>\n",
       "    <tr style=\"text-align: right;\">\n",
       "      <th></th>\n",
       "      <th>cid</th>\n",
       "      <th>name</th>\n",
       "      <th>type</th>\n",
       "      <th>notnull</th>\n",
       "      <th>dflt_value</th>\n",
       "      <th>pk</th>\n",
       "    </tr>\n",
       "  </thead>\n",
       "  <tbody>\n",
       "    <tr>\n",
       "      <th>0</th>\n",
       "      <td>0</td>\n",
       "      <td>index</td>\n",
       "      <td>INTEGER</td>\n",
       "      <td>0</td>\n",
       "      <td>None</td>\n",
       "      <td>0</td>\n",
       "    </tr>\n",
       "    <tr>\n",
       "      <th>1</th>\n",
       "      <td>1</td>\n",
       "      <td>Tag No.</td>\n",
       "      <td>TEXT</td>\n",
       "      <td>0</td>\n",
       "      <td>None</td>\n",
       "      <td>0</td>\n",
       "    </tr>\n",
       "    <tr>\n",
       "      <th>2</th>\n",
       "      <td>2</td>\n",
       "      <td>Tag State</td>\n",
       "      <td>TEXT</td>\n",
       "      <td>0</td>\n",
       "      <td>None</td>\n",
       "      <td>0</td>\n",
       "    </tr>\n",
       "    <tr>\n",
       "      <th>3</th>\n",
       "      <td>3</td>\n",
       "      <td>Tag Date</td>\n",
       "      <td>TIMESTAMP</td>\n",
       "      <td>0</td>\n",
       "      <td>None</td>\n",
       "      <td>0</td>\n",
       "    </tr>\n",
       "    <tr>\n",
       "      <th>4</th>\n",
       "      <td>4</td>\n",
       "      <td>Report State</td>\n",
       "      <td>TEXT</td>\n",
       "      <td>0</td>\n",
       "      <td>None</td>\n",
       "      <td>0</td>\n",
       "    </tr>\n",
       "    <tr>\n",
       "      <th>5</th>\n",
       "      <td>5</td>\n",
       "      <td>Report Country</td>\n",
       "      <td>TEXT</td>\n",
       "      <td>0</td>\n",
       "      <td>None</td>\n",
       "      <td>0</td>\n",
       "    </tr>\n",
       "    <tr>\n",
       "      <th>6</th>\n",
       "      <td>6</td>\n",
       "      <td>Report Date</td>\n",
       "      <td>TIMESTAMP</td>\n",
       "      <td>0</td>\n",
       "      <td>None</td>\n",
       "      <td>0</td>\n",
       "    </tr>\n",
       "    <tr>\n",
       "      <th>7</th>\n",
       "      <td>7</td>\n",
       "      <td>Miles</td>\n",
       "      <td>REAL</td>\n",
       "      <td>0</td>\n",
       "      <td>None</td>\n",
       "      <td>0</td>\n",
       "    </tr>\n",
       "    <tr>\n",
       "      <th>8</th>\n",
       "      <td>8</td>\n",
       "      <td>Season</td>\n",
       "      <td>TEXT</td>\n",
       "      <td>0</td>\n",
       "      <td>None</td>\n",
       "      <td>0</td>\n",
       "    </tr>\n",
       "  </tbody>\n",
       "</table>\n",
       "</div>"
      ],
      "text/plain": [
       "   cid            name       type  notnull dflt_value  pk\n",
       "0    0           index    INTEGER        0       None   0\n",
       "1    1         Tag No.       TEXT        0       None   0\n",
       "2    2       Tag State       TEXT        0       None   0\n",
       "3    3        Tag Date  TIMESTAMP        0       None   0\n",
       "4    4    Report State       TEXT        0       None   0\n",
       "5    5  Report Country       TEXT        0       None   0\n",
       "6    6     Report Date  TIMESTAMP        0       None   0\n",
       "7    7           Miles       REAL        0       None   0\n",
       "8    8          Season       TEXT        0       None   0"
      ]
     },
     "execution_count": 48,
     "metadata": {},
     "output_type": "execute_result"
    }
   ],
   "source": [
    "data_type = pd.read_sql('SELECT * FROM PRAGMA_TABLE_INFO(\"monarchs2001\")', db)\n",
    "data_type"
   ]
  },
  {
   "cell_type": "markdown",
   "metadata": {},
   "source": [
    "### Combine all years"
   ]
  },
  {
   "cell_type": "code",
   "execution_count": 53,
   "metadata": {},
   "outputs": [],
   "source": [
    "combine =  pd.concat([monarchs2001, monarchs2000, monarchs1999, monarchs1998, monarchs1997, monarchs1996, monarchs1995, monarchs1994], axis =0)\n",
    "#combine.columns = [\"tag_no\", \"tag_state\", \"tag_date\",\"report_state\", \"report_country\", \"report_date\", \"miles\"]\n",
    "#combine[\"Tag Date\"] = combine[\"Tag Date\"].astype(str)\n",
    "combine.to_sql(\"combine\", db, if_exists=\"replace\")"
   ]
  },
  {
   "cell_type": "code",
   "execution_count": 54,
   "metadata": {},
   "outputs": [],
   "source": [
    "tag_tally = pd.read_sql('SELECT `Tag State`, COUNT(*) AS \"Recovered Tags\" FROM combine GROUP BY `Tag State` ORDER BY `Recovered Tags`DESC', db)\n",
    "#recover_tally = pd.read_sql('SELECT `Report State`, COUNT(*) AS \"Recovered Tags\" FROM monarchs1994 GROUP BY `Report State` ORDER BY `Report State`', db)"
   ]
  },
  {
   "cell_type": "code",
   "execution_count": 55,
   "metadata": {},
   "outputs": [
    {
     "data": {
      "text/plain": [
       "'file://C:\\\\Users\\\\Arink\\\\Desktop\\\\github\\\\CodeLou\\\\Monarchs\\\\temp-plot.html'"
      ]
     },
     "execution_count": 55,
     "metadata": {},
     "output_type": "execute_result"
    }
   ],
   "source": [
    "data = dict (\n",
    "    type = 'choropleth',\n",
    "    locations = tag_tally['Tag State'],\n",
    "    locationmode='USA-states',\n",
    "    autocolorscale = False,\n",
    "    colorscale = ['Rainbow'],\n",
    "    z=state_tally['Recovered Tags'])\n",
    "\n",
    "\n",
    "lyt = dict(geo=dict(scope='north america'))\n",
    "map = go.Figure(data=[data], layout = lyt)\n",
    "py.offline.plot(map)"
   ]
  },
  {
   "cell_type": "markdown",
   "metadata": {},
   "source": [
    "### Embed Power BI maps, showing Tag Origin and Report Locations, as well as travel.\n",
    "#### Page 1 shows Tag Origin Locations and Tag Report Locations. Page 2 shows travel for all seasons."
   ]
  },
  {
   "cell_type": "code",
   "execution_count": 56,
   "metadata": {},
   "outputs": [
    {
     "data": {
      "text/html": [
       "\n",
       "        <iframe\n",
       "            width=\"1000\"\n",
       "            height=\"600\"\n",
       "            src=\"https://app.powerbi.com/reportEmbed?reportId=96d602f4-ad60-4a7b-96b0-a92b0913e382&autoAuth=true&ctid=f2e33951-1ec4-4c72-b2bf-a4f4671d64af&config=eyJjbHVzdGVyVXJsIjoiaHR0cHM6Ly93YWJpLXVzLW5vcnRoLWNlbnRyYWwtYy1wcmltYXJ5LXJlZGlyZWN0LmFuYWx5c2lzLndpbmRvd3MubmV0LyJ9\"\n",
       "            frameborder=\"0\"\n",
       "            allowfullscreen\n",
       "        ></iframe>\n",
       "        "
      ],
      "text/plain": [
       "<IPython.lib.display.IFrame at 0x2560fc1a108>"
      ]
     },
     "execution_count": 56,
     "metadata": {},
     "output_type": "execute_result"
    }
   ],
   "source": [
    "powerBiEmbed = 'https://app.powerbi.com/reportEmbed?reportId=96d602f4-ad60-4a7b-96b0-a92b0913e382&autoAuth=true&ctid=f2e33951-1ec4-4c72-b2bf-a4f4671d64af&config=eyJjbHVzdGVyVXJsIjoiaHR0cHM6Ly93YWJpLXVzLW5vcnRoLWNlbnRyYWwtYy1wcmltYXJ5LXJlZGlyZWN0LmFuYWx5c2lzLndpbmRvd3MubmV0LyJ9'\n",
    "IFrame(powerBiEmbed, width=1000, height=600)"
   ]
  },
  {
   "cell_type": "code",
   "execution_count": null,
   "metadata": {},
   "outputs": [],
   "source": []
  }
 ],
 "metadata": {
  "kernelspec": {
   "display_name": "Python 3",
   "language": "python",
   "name": "python3"
  },
  "language_info": {
   "codemirror_mode": {
    "name": "ipython",
    "version": 3
   },
   "file_extension": ".py",
   "mimetype": "text/x-python",
   "name": "python",
   "nbconvert_exporter": "python",
   "pygments_lexer": "ipython3",
   "version": "3.7.4"
  }
 },
 "nbformat": 4,
 "nbformat_minor": 2
}
